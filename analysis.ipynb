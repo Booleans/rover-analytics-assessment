{
 "cells": [
  {
   "cell_type": "markdown",
   "metadata": {},
   "source": [
    "# Rover.com Analytics Assessment\n",
    "**Andrew Nicholls** | Email: andrew.s.nicholls@gmail.com | [Github](https://github.com/Booleans)\n",
    "\n",
    "If you are viewing this notebook in Github you may want to switch to the nbviewer page to ensure interactive charts are functioning properly: https://nbviewer.jupyter.org/github/Booleans/rover-analytics-assessment/blob/master/analysis.ipynb\n",
    "\n",
    "### Exercise Problems\n",
    "Click the hyperlink to skip to the desired assessment section.\n",
    "\n",
    "I. [Exploring the Database](#1)  \n",
    "II. [Conversations and Bookings](#2)  \n",
    "III. [Recent Daily Booking Rate](#3)   \n",
    "IV. [Analyzing Take Rate](#4)   \n",
    "V. [New Conversation Flow](#5)  \n",
    "VI. [Search Engine Marketing](#6)"
   ]
  },
  {
   "cell_type": "code",
   "execution_count": 29,
   "metadata": {},
   "outputs": [],
   "source": [
    "import pandas as pd\n",
    "import numpy as np\n",
    "import datetime \n",
    "import plotly.graph_objects as go\n",
    "import plotly.express as px"
   ]
  },
  {
   "cell_type": "markdown",
   "metadata": {},
   "source": [
    "## Loading and Reviewing Available Data\n",
    "It's important to look at and understand our available data before attempting an analysis."
   ]
  },
  {
   "cell_type": "markdown",
   "metadata": {},
   "source": [
    "#### conversations_conversation\n",
    "\n",
    "An owner can book a service provider by starting a conversation with them. This table stores a\n",
    "record for each conversation started on our platform. Many of the fields on this table are self\n",
    "explanatory but we have detailed a few below.\n",
    "\n",
    "* `start_date` - This is the date for which pet care will first be needed.\n",
    "* `end_date` - This is the last date for which pet care will be needed.\n",
    "* `units` - This is the number of units of service that the owner is interested in booking.\n",
    "* `added` - A timestamp for when this conversation was created.\n",
    "* `booking_total` - This is the dollar amount (not including the owner’s service fee) that this\n",
    "booking would cost.\n",
    "* `requester_id` - This foreign key reports the people_person record for the pet owner that is\n",
    "requesting pet care.\n",
    "* `service_id` - This foreign key reports the services_service record for the service that the\n",
    "pet owner is requesting.\n",
    "* `booked_at` - If the request is booked, this timestamp reports when that occurred.\n",
    "* `cancelled_at` - A booked request can be cancelled. In that case, this timestamp reports\n",
    "when that occurred."
   ]
  },
  {
   "cell_type": "code",
   "execution_count": 3,
   "metadata": {},
   "outputs": [
    {
     "name": "stdout",
     "output_type": "stream",
     "text": [
      "Imported conversations_conversation.csv into df_conversations with shape: (80180, 11)\n"
     ]
    },
    {
     "data": {
      "text/html": [
       "<div>\n",
       "<style scoped>\n",
       "    .dataframe tbody tr th:only-of-type {\n",
       "        vertical-align: middle;\n",
       "    }\n",
       "\n",
       "    .dataframe tbody tr th {\n",
       "        vertical-align: top;\n",
       "    }\n",
       "\n",
       "    .dataframe thead th {\n",
       "        text-align: right;\n",
       "    }\n",
       "</style>\n",
       "<table border=\"1\" class=\"dataframe\">\n",
       "  <thead>\n",
       "    <tr style=\"text-align: right;\">\n",
       "      <th></th>\n",
       "      <th>id</th>\n",
       "      <th>start_date</th>\n",
       "      <th>end_date</th>\n",
       "      <th>units</th>\n",
       "      <th>added</th>\n",
       "      <th>booking_total</th>\n",
       "      <th>cancellation_fault</th>\n",
       "      <th>requester_id</th>\n",
       "      <th>service_id</th>\n",
       "      <th>booked_at</th>\n",
       "      <th>cancelled_at</th>\n",
       "    </tr>\n",
       "  </thead>\n",
       "  <tbody>\n",
       "    <tr>\n",
       "      <td>0</td>\n",
       "      <td>1</td>\n",
       "      <td>2018-07-26</td>\n",
       "      <td>2018-07-31</td>\n",
       "      <td>5</td>\n",
       "      <td>2018-07-16 10:17:53.460035</td>\n",
       "      <td>120</td>\n",
       "      <td>NaN</td>\n",
       "      <td>64393</td>\n",
       "      <td>4646</td>\n",
       "      <td>NaT</td>\n",
       "      <td>NaT</td>\n",
       "    </tr>\n",
       "    <tr>\n",
       "      <td>1</td>\n",
       "      <td>2</td>\n",
       "      <td>2018-08-10</td>\n",
       "      <td>2018-08-16</td>\n",
       "      <td>6</td>\n",
       "      <td>2018-08-01 10:20:48.626868</td>\n",
       "      <td>132</td>\n",
       "      <td>NaN</td>\n",
       "      <td>64392</td>\n",
       "      <td>10126</td>\n",
       "      <td>NaT</td>\n",
       "      <td>NaT</td>\n",
       "    </tr>\n",
       "    <tr>\n",
       "      <td>2</td>\n",
       "      <td>3</td>\n",
       "      <td>2018-06-16</td>\n",
       "      <td>2018-06-19</td>\n",
       "      <td>3</td>\n",
       "      <td>2018-06-05 16:46:39.542467</td>\n",
       "      <td>168</td>\n",
       "      <td>NaN</td>\n",
       "      <td>64391</td>\n",
       "      <td>20677</td>\n",
       "      <td>NaT</td>\n",
       "      <td>NaT</td>\n",
       "    </tr>\n",
       "    <tr>\n",
       "      <td>3</td>\n",
       "      <td>4</td>\n",
       "      <td>2018-07-13</td>\n",
       "      <td>2018-07-20</td>\n",
       "      <td>7</td>\n",
       "      <td>2018-07-02 09:12:22.275923</td>\n",
       "      <td>490</td>\n",
       "      <td>NaN</td>\n",
       "      <td>64391</td>\n",
       "      <td>3847</td>\n",
       "      <td>NaT</td>\n",
       "      <td>NaT</td>\n",
       "    </tr>\n",
       "    <tr>\n",
       "      <td>4</td>\n",
       "      <td>5</td>\n",
       "      <td>2018-07-02</td>\n",
       "      <td>2018-07-07</td>\n",
       "      <td>5</td>\n",
       "      <td>2018-06-21 16:02:48.694725</td>\n",
       "      <td>140</td>\n",
       "      <td>NaN</td>\n",
       "      <td>64389</td>\n",
       "      <td>9982</td>\n",
       "      <td>NaT</td>\n",
       "      <td>NaT</td>\n",
       "    </tr>\n",
       "  </tbody>\n",
       "</table>\n",
       "</div>"
      ],
      "text/plain": [
       "   id start_date   end_date  units                      added  booking_total  \\\n",
       "0   1 2018-07-26 2018-07-31      5 2018-07-16 10:17:53.460035            120   \n",
       "1   2 2018-08-10 2018-08-16      6 2018-08-01 10:20:48.626868            132   \n",
       "2   3 2018-06-16 2018-06-19      3 2018-06-05 16:46:39.542467            168   \n",
       "3   4 2018-07-13 2018-07-20      7 2018-07-02 09:12:22.275923            490   \n",
       "4   5 2018-07-02 2018-07-07      5 2018-06-21 16:02:48.694725            140   \n",
       "\n",
       "  cancellation_fault  requester_id  service_id booked_at cancelled_at  \n",
       "0                NaN         64393        4646       NaT          NaT  \n",
       "1                NaN         64392       10126       NaT          NaT  \n",
       "2                NaN         64391       20677       NaT          NaT  \n",
       "3                NaN         64391        3847       NaT          NaT  \n",
       "4                NaN         64389        9982       NaT          NaT  "
      ]
     },
     "execution_count": 3,
     "metadata": {},
     "output_type": "execute_result"
    }
   ],
   "source": [
    "df_conversations = pd.read_csv('data/conversations_conversation.csv', low_memory=False,\n",
    "                               parse_dates=['added', 'start_date', 'end_date', 'booked_at','cancelled_at'])\n",
    "print(f'Imported conversations_conversation.csv into df_conversations with shape: {df_conversations.shape}')\n",
    "df_conversations.head()"
   ]
  },
  {
   "cell_type": "markdown",
   "metadata": {},
   "source": [
    "#### conversations_conversation_pets\n",
    "\n",
    "Since a booking may involve many pets and many pets might have had many bookings, it is\n",
    "necessary to store this many-to-many relationship on a separate table. Many of the fields on this\n",
    "table are self explanatory but we have detailed a few below.\n",
    "\n",
    "* `conversation_id` - A foreign key to a booking request on the conversations_converation\n",
    "table. If this conversation involves caring for more than one pets, then this\n",
    "conversation_id will occur on more than one row on this table (once for each pet).\n",
    "* `pet_id` - A foreign key to a pet that will receive pet care during the corresponding\n",
    "conversation’s booking."
   ]
  },
  {
   "cell_type": "code",
   "execution_count": 4,
   "metadata": {},
   "outputs": [
    {
     "name": "stdout",
     "output_type": "stream",
     "text": [
      "Imported conversations_conversation_pets.csv into df_conversations_pets with shape: (120188, 3)\n"
     ]
    },
    {
     "data": {
      "text/html": [
       "<div>\n",
       "<style scoped>\n",
       "    .dataframe tbody tr th:only-of-type {\n",
       "        vertical-align: middle;\n",
       "    }\n",
       "\n",
       "    .dataframe tbody tr th {\n",
       "        vertical-align: top;\n",
       "    }\n",
       "\n",
       "    .dataframe thead th {\n",
       "        text-align: right;\n",
       "    }\n",
       "</style>\n",
       "<table border=\"1\" class=\"dataframe\">\n",
       "  <thead>\n",
       "    <tr style=\"text-align: right;\">\n",
       "      <th></th>\n",
       "      <th>id</th>\n",
       "      <th>conversation_id</th>\n",
       "      <th>pet_id</th>\n",
       "    </tr>\n",
       "  </thead>\n",
       "  <tbody>\n",
       "    <tr>\n",
       "      <td>0</td>\n",
       "      <td>1</td>\n",
       "      <td>1</td>\n",
       "      <td>77730</td>\n",
       "    </tr>\n",
       "    <tr>\n",
       "      <td>1</td>\n",
       "      <td>2</td>\n",
       "      <td>2</td>\n",
       "      <td>77729</td>\n",
       "    </tr>\n",
       "    <tr>\n",
       "      <td>2</td>\n",
       "      <td>3</td>\n",
       "      <td>3</td>\n",
       "      <td>77728</td>\n",
       "    </tr>\n",
       "    <tr>\n",
       "      <td>3</td>\n",
       "      <td>4</td>\n",
       "      <td>3</td>\n",
       "      <td>77727</td>\n",
       "    </tr>\n",
       "    <tr>\n",
       "      <td>4</td>\n",
       "      <td>5</td>\n",
       "      <td>4</td>\n",
       "      <td>77728</td>\n",
       "    </tr>\n",
       "  </tbody>\n",
       "</table>\n",
       "</div>"
      ],
      "text/plain": [
       "   id  conversation_id  pet_id\n",
       "0   1                1   77730\n",
       "1   2                2   77729\n",
       "2   3                3   77728\n",
       "3   4                3   77727\n",
       "4   5                4   77728"
      ]
     },
     "execution_count": 4,
     "metadata": {},
     "output_type": "execute_result"
    }
   ],
   "source": [
    "df_conversations_pets = pd.read_csv('data/conversations_conversation_pets.csv', low_memory=False)\n",
    "print(f'Imported conversations_conversation_pets.csv into df_conversations_pets with shape: {df_conversations_pets.shape}')\n",
    "df_conversations_pets.head()"
   ]
  },
  {
   "cell_type": "markdown",
   "metadata": {},
   "source": [
    "#### conversations_message\n",
    "\n",
    "Each conversation consists of a series of messages. A conversation may contain many\n",
    "messages, but not vice versa. Many of the fields on this table are self explanatory but we have\n",
    "detailed a few below.\n",
    "* `conversation_id` - This foreign key reports the conversation in\n",
    "conversations_conversation for which this message is apart of.\n",
    "* `sender_id` - This foreign key reports the user in people_person that sent this message."
   ]
  },
  {
   "cell_type": "code",
   "execution_count": 5,
   "metadata": {},
   "outputs": [
    {
     "name": "stdout",
     "output_type": "stream",
     "text": [
      "Imported conversations_message.csv into df_conversations_message with shape: (401211, 5)\n"
     ]
    },
    {
     "data": {
      "text/html": [
       "<div>\n",
       "<style scoped>\n",
       "    .dataframe tbody tr th:only-of-type {\n",
       "        vertical-align: middle;\n",
       "    }\n",
       "\n",
       "    .dataframe tbody tr th {\n",
       "        vertical-align: top;\n",
       "    }\n",
       "\n",
       "    .dataframe thead th {\n",
       "        text-align: right;\n",
       "    }\n",
       "</style>\n",
       "<table border=\"1\" class=\"dataframe\">\n",
       "  <thead>\n",
       "    <tr style=\"text-align: right;\">\n",
       "      <th></th>\n",
       "      <th>id</th>\n",
       "      <th>sent</th>\n",
       "      <th>content</th>\n",
       "      <th>conversation_id</th>\n",
       "      <th>sender_id</th>\n",
       "    </tr>\n",
       "  </thead>\n",
       "  <tbody>\n",
       "    <tr>\n",
       "      <td>0</td>\n",
       "      <td>1</td>\n",
       "      <td>2018-07-16 10:17:53.460035</td>\n",
       "      <td>Massa class.</td>\n",
       "      <td>1</td>\n",
       "      <td>64393</td>\n",
       "    </tr>\n",
       "    <tr>\n",
       "      <td>1</td>\n",
       "      <td>2</td>\n",
       "      <td>2018-07-28 16:53:53.927200</td>\n",
       "      <td>Porta lorem ornare condimentum.</td>\n",
       "      <td>1</td>\n",
       "      <td>2709</td>\n",
       "    </tr>\n",
       "    <tr>\n",
       "      <td>2</td>\n",
       "      <td>3</td>\n",
       "      <td>2018-07-16 23:55:22.904038</td>\n",
       "      <td>Neque curae rutrum elit conubia metus in.</td>\n",
       "      <td>1</td>\n",
       "      <td>2709</td>\n",
       "    </tr>\n",
       "    <tr>\n",
       "      <td>3</td>\n",
       "      <td>4</td>\n",
       "      <td>2018-07-23 10:05:49.829926</td>\n",
       "      <td>Donec etiam gravida luctus tellus phasellus ri...</td>\n",
       "      <td>1</td>\n",
       "      <td>2709</td>\n",
       "    </tr>\n",
       "    <tr>\n",
       "      <td>4</td>\n",
       "      <td>5</td>\n",
       "      <td>2018-08-01 10:20:48.626868</td>\n",
       "      <td>Risus class dui leo sem dui sed sollicitudin.</td>\n",
       "      <td>2</td>\n",
       "      <td>64392</td>\n",
       "    </tr>\n",
       "  </tbody>\n",
       "</table>\n",
       "</div>"
      ],
      "text/plain": [
       "   id                       sent  \\\n",
       "0   1 2018-07-16 10:17:53.460035   \n",
       "1   2 2018-07-28 16:53:53.927200   \n",
       "2   3 2018-07-16 23:55:22.904038   \n",
       "3   4 2018-07-23 10:05:49.829926   \n",
       "4   5 2018-08-01 10:20:48.626868   \n",
       "\n",
       "                                             content  conversation_id  \\\n",
       "0                                       Massa class.                1   \n",
       "1                    Porta lorem ornare condimentum.                1   \n",
       "2          Neque curae rutrum elit conubia metus in.                1   \n",
       "3  Donec etiam gravida luctus tellus phasellus ri...                1   \n",
       "4      Risus class dui leo sem dui sed sollicitudin.                2   \n",
       "\n",
       "   sender_id  \n",
       "0      64393  \n",
       "1       2709  \n",
       "2       2709  \n",
       "3       2709  \n",
       "4      64392  "
      ]
     },
     "execution_count": 5,
     "metadata": {},
     "output_type": "execute_result"
    }
   ],
   "source": [
    "df_conversations_message = pd.read_csv('data/conversations_message.csv', low_memory=False, parse_dates=['sent'])\n",
    "print(f'Imported conversations_message.csv into df_conversations_message with shape: {df_conversations_message.shape}')\n",
    "df_conversations_message.head()"
   ]
  },
  {
   "cell_type": "markdown",
   "metadata": {},
   "source": [
    "#### conversations_review\n",
    "\n",
    "If a booking occurs, then either participant can leave a review for the experience. This table\n",
    "records those reviews, which consist of a brief statement and a star rating. Many of the fields on\n",
    "this table are self explanatory but we have detailed a few below.\n",
    "* `conversation_id` - This foreign key reports the booking in conversations_conversation for\n",
    "which this review pertains.\n",
    "* `reviewer_id` - This foreign key reports the user in people_person that wrote this review."
   ]
  },
  {
   "cell_type": "code",
   "execution_count": 6,
   "metadata": {},
   "outputs": [
    {
     "name": "stdout",
     "output_type": "stream",
     "text": [
      "Imported conversations_review.csv into df_conversations_review with shape: (28561, 5)\n"
     ]
    },
    {
     "data": {
      "text/html": [
       "<div>\n",
       "<style scoped>\n",
       "    .dataframe tbody tr th:only-of-type {\n",
       "        vertical-align: middle;\n",
       "    }\n",
       "\n",
       "    .dataframe tbody tr th {\n",
       "        vertical-align: top;\n",
       "    }\n",
       "\n",
       "    .dataframe thead th {\n",
       "        text-align: right;\n",
       "    }\n",
       "</style>\n",
       "<table border=\"1\" class=\"dataframe\">\n",
       "  <thead>\n",
       "    <tr style=\"text-align: right;\">\n",
       "      <th></th>\n",
       "      <th>id</th>\n",
       "      <th>content</th>\n",
       "      <th>stars</th>\n",
       "      <th>conversation_id</th>\n",
       "      <th>reviewer_id</th>\n",
       "    </tr>\n",
       "  </thead>\n",
       "  <tbody>\n",
       "    <tr>\n",
       "      <td>0</td>\n",
       "      <td>1</td>\n",
       "      <td>Netus proin per duis dolor venenatis nam.</td>\n",
       "      <td>1</td>\n",
       "      <td>7</td>\n",
       "      <td>64386</td>\n",
       "    </tr>\n",
       "    <tr>\n",
       "      <td>1</td>\n",
       "      <td>2</td>\n",
       "      <td>Dolor proin donec phasellus ve suspendisse ac ...</td>\n",
       "      <td>5</td>\n",
       "      <td>9</td>\n",
       "      <td>64384</td>\n",
       "    </tr>\n",
       "    <tr>\n",
       "      <td>2</td>\n",
       "      <td>3</td>\n",
       "      <td>Proin ipsum urna nisl egestas justo class a ar...</td>\n",
       "      <td>5</td>\n",
       "      <td>11</td>\n",
       "      <td>64382</td>\n",
       "    </tr>\n",
       "    <tr>\n",
       "      <td>3</td>\n",
       "      <td>4</td>\n",
       "      <td>Porta velit lectus varius donec tellus sollici...</td>\n",
       "      <td>1</td>\n",
       "      <td>13</td>\n",
       "      <td>64381</td>\n",
       "    </tr>\n",
       "    <tr>\n",
       "      <td>4</td>\n",
       "      <td>5</td>\n",
       "      <td>Dolor felis.</td>\n",
       "      <td>2</td>\n",
       "      <td>15</td>\n",
       "      <td>64379</td>\n",
       "    </tr>\n",
       "  </tbody>\n",
       "</table>\n",
       "</div>"
      ],
      "text/plain": [
       "   id                                            content  stars  \\\n",
       "0   1          Netus proin per duis dolor venenatis nam.      1   \n",
       "1   2  Dolor proin donec phasellus ve suspendisse ac ...      5   \n",
       "2   3  Proin ipsum urna nisl egestas justo class a ar...      5   \n",
       "3   4  Porta velit lectus varius donec tellus sollici...      1   \n",
       "4   5                                       Dolor felis.      2   \n",
       "\n",
       "   conversation_id  reviewer_id  \n",
       "0                7        64386  \n",
       "1                9        64384  \n",
       "2               11        64382  \n",
       "3               13        64381  \n",
       "4               15        64379  "
      ]
     },
     "execution_count": 6,
     "metadata": {},
     "output_type": "execute_result"
    }
   ],
   "source": [
    "df_conversations_review = pd.read_csv('data/conversations_review.csv', low_memory=False)\n",
    "print(f'Imported conversations_review.csv into df_conversations_review with shape: {df_conversations_review.shape}')\n",
    "df_conversations_review.head()"
   ]
  },
  {
   "cell_type": "markdown",
   "metadata": {},
   "source": [
    "#### people_person\n",
    "\n",
    "This table details each user on our site. This table may contain dog owners, dog sitters, or\n",
    "people who have not transacted on our site. Many of the fields on this table are self explanatory\n",
    "but we have detailed a few below.\n",
    "* `channel` - This field reports how this user discovered our site when they signed up.\n",
    "* `date_joined` - The timestamp for when this user signed up.\n",
    "* `fee` - When a user books a service as a dog owner, we charge the owner a separate\n",
    "service fee that takes the form of a percentage of the booking total."
   ]
  },
  {
   "cell_type": "code",
   "execution_count": 7,
   "metadata": {},
   "outputs": [
    {
     "name": "stdout",
     "output_type": "stream",
     "text": [
      "Imported people_person.csv into df_people_person with shape: (64393, 9)\n"
     ]
    },
    {
     "data": {
      "text/html": [
       "<div>\n",
       "<style scoped>\n",
       "    .dataframe tbody tr th:only-of-type {\n",
       "        vertical-align: middle;\n",
       "    }\n",
       "\n",
       "    .dataframe tbody tr th {\n",
       "        vertical-align: top;\n",
       "    }\n",
       "\n",
       "    .dataframe thead th {\n",
       "        text-align: right;\n",
       "    }\n",
       "</style>\n",
       "<table border=\"1\" class=\"dataframe\">\n",
       "  <thead>\n",
       "    <tr style=\"text-align: right;\">\n",
       "      <th></th>\n",
       "      <th>id</th>\n",
       "      <th>first_name</th>\n",
       "      <th>last_name</th>\n",
       "      <th>email</th>\n",
       "      <th>channel</th>\n",
       "      <th>date_joined</th>\n",
       "      <th>photo</th>\n",
       "      <th>fee</th>\n",
       "      <th>gender</th>\n",
       "    </tr>\n",
       "  </thead>\n",
       "  <tbody>\n",
       "    <tr>\n",
       "      <td>0</td>\n",
       "      <td>1</td>\n",
       "      <td>Leanora</td>\n",
       "      <td>Allcock</td>\n",
       "      <td>leanora.allcock635@hotmail.com</td>\n",
       "      <td>NaN</td>\n",
       "      <td>2016-08-02 14:59:15.095591</td>\n",
       "      <td>https://placekitten.com/242/269</td>\n",
       "      <td>0.0</td>\n",
       "      <td>f</td>\n",
       "    </tr>\n",
       "    <tr>\n",
       "      <td>1</td>\n",
       "      <td>2</td>\n",
       "      <td>Elroy</td>\n",
       "      <td>Blanding</td>\n",
       "      <td>elroy.blanding510@yahoo.com</td>\n",
       "      <td>NaN</td>\n",
       "      <td>2016-08-02 18:15:30.105940</td>\n",
       "      <td>https://placekitten.com/373/320</td>\n",
       "      <td>0.0</td>\n",
       "      <td>m</td>\n",
       "    </tr>\n",
       "    <tr>\n",
       "      <td>2</td>\n",
       "      <td>3</td>\n",
       "      <td>Jeanice</td>\n",
       "      <td>Aleman</td>\n",
       "      <td>jeanice.aleman392@hotmail.com</td>\n",
       "      <td>NaN</td>\n",
       "      <td>2016-08-02 16:11:09.542004</td>\n",
       "      <td>https://placekitten.com/238/264</td>\n",
       "      <td>0.0</td>\n",
       "      <td>f</td>\n",
       "    </tr>\n",
       "    <tr>\n",
       "      <td>3</td>\n",
       "      <td>4</td>\n",
       "      <td>Tamala</td>\n",
       "      <td>Polhamus</td>\n",
       "      <td>tamala.polhamus146@aol.com</td>\n",
       "      <td>NaN</td>\n",
       "      <td>2016-08-02 18:02:40.389299</td>\n",
       "      <td>https://placekitten.com/220/223</td>\n",
       "      <td>0.0</td>\n",
       "      <td>f</td>\n",
       "    </tr>\n",
       "    <tr>\n",
       "      <td>4</td>\n",
       "      <td>5</td>\n",
       "      <td>Alethea</td>\n",
       "      <td>Gubler</td>\n",
       "      <td>alethea.gubler708@aol.com</td>\n",
       "      <td>NaN</td>\n",
       "      <td>2016-08-02 14:31:53.163034</td>\n",
       "      <td>https://placekitten.com/284/339</td>\n",
       "      <td>0.0</td>\n",
       "      <td>f</td>\n",
       "    </tr>\n",
       "  </tbody>\n",
       "</table>\n",
       "</div>"
      ],
      "text/plain": [
       "   id first_name last_name                           email channel  \\\n",
       "0   1    Leanora   Allcock  leanora.allcock635@hotmail.com     NaN   \n",
       "1   2      Elroy  Blanding     elroy.blanding510@yahoo.com     NaN   \n",
       "2   3    Jeanice    Aleman   jeanice.aleman392@hotmail.com     NaN   \n",
       "3   4     Tamala  Polhamus      tamala.polhamus146@aol.com     NaN   \n",
       "4   5    Alethea    Gubler       alethea.gubler708@aol.com     NaN   \n",
       "\n",
       "                 date_joined                            photo  fee gender  \n",
       "0 2016-08-02 14:59:15.095591  https://placekitten.com/242/269  0.0      f  \n",
       "1 2016-08-02 18:15:30.105940  https://placekitten.com/373/320  0.0      m  \n",
       "2 2016-08-02 16:11:09.542004  https://placekitten.com/238/264  0.0      f  \n",
       "3 2016-08-02 18:02:40.389299  https://placekitten.com/220/223  0.0      f  \n",
       "4 2016-08-02 14:31:53.163034  https://placekitten.com/284/339  0.0      f  "
      ]
     },
     "execution_count": 7,
     "metadata": {},
     "output_type": "execute_result"
    }
   ],
   "source": [
    "df_people_person = pd.read_csv('data/people_person.csv', low_memory=False, parse_dates=['date_joined'])\n",
    "print(f'Imported people_person.csv into df_people_person with shape: {df_people_person.shape}')\n",
    "df_people_person.head()"
   ]
  },
  {
   "cell_type": "markdown",
   "metadata": {},
   "source": [
    "#### people_testsegmentation\n",
    "\n",
    "Occasionally, this company would run an A/B test which required that users get placed in two\n",
    "groups. This table provides a log for experiments which require user-level segmentations. Many\n",
    "of the fields on this table are self explanatory but we have detailed a few below.\n",
    "* `person_id` - This foreign key reports the people_person record that was segmented.\n",
    "* `test_name` - Multiple tests were run on this site and all are logged on this table. Use this\n",
    "column to filter to the correct experiment.\n",
    "* `test_group` - For the purposes of the experiment in test_name , the user given by\n",
    "person_id was segmented into the group named in this column (e.g., holdout , variant , A\n",
    ", B , etc.).\n",
    "* `added` - The timestamp reporting the time when this user was segmented."
   ]
  },
  {
   "cell_type": "code",
   "execution_count": 8,
   "metadata": {},
   "outputs": [
    {
     "name": "stdout",
     "output_type": "stream",
     "text": [
      "Imported people_testsegmentation.csv into df_people_test with shape: (87778, 5)\n"
     ]
    },
    {
     "data": {
      "text/html": [
       "<div>\n",
       "<style scoped>\n",
       "    .dataframe tbody tr th:only-of-type {\n",
       "        vertical-align: middle;\n",
       "    }\n",
       "\n",
       "    .dataframe tbody tr th {\n",
       "        vertical-align: top;\n",
       "    }\n",
       "\n",
       "    .dataframe thead th {\n",
       "        text-align: right;\n",
       "    }\n",
       "</style>\n",
       "<table border=\"1\" class=\"dataframe\">\n",
       "  <thead>\n",
       "    <tr style=\"text-align: right;\">\n",
       "      <th></th>\n",
       "      <th>id</th>\n",
       "      <th>test_name</th>\n",
       "      <th>test_group</th>\n",
       "      <th>added</th>\n",
       "      <th>person_id</th>\n",
       "    </tr>\n",
       "  </thead>\n",
       "  <tbody>\n",
       "    <tr>\n",
       "      <td>0</td>\n",
       "      <td>1</td>\n",
       "      <td>Email Test</td>\n",
       "      <td>holdout</td>\n",
       "      <td>2016-08-02 14:59:15.095591</td>\n",
       "      <td>1</td>\n",
       "    </tr>\n",
       "    <tr>\n",
       "      <td>1</td>\n",
       "      <td>2</td>\n",
       "      <td>Email Test</td>\n",
       "      <td>variant</td>\n",
       "      <td>2016-08-02 18:15:30.105940</td>\n",
       "      <td>2</td>\n",
       "    </tr>\n",
       "    <tr>\n",
       "      <td>2</td>\n",
       "      <td>3</td>\n",
       "      <td>Email Test</td>\n",
       "      <td>holdout</td>\n",
       "      <td>2016-08-02 16:11:09.542004</td>\n",
       "      <td>3</td>\n",
       "    </tr>\n",
       "    <tr>\n",
       "      <td>3</td>\n",
       "      <td>4</td>\n",
       "      <td>Email Test</td>\n",
       "      <td>holdout</td>\n",
       "      <td>2016-08-02 18:02:40.389299</td>\n",
       "      <td>4</td>\n",
       "    </tr>\n",
       "    <tr>\n",
       "      <td>4</td>\n",
       "      <td>5</td>\n",
       "      <td>Email Test</td>\n",
       "      <td>holdout</td>\n",
       "      <td>2016-08-02 14:31:53.163034</td>\n",
       "      <td>5</td>\n",
       "    </tr>\n",
       "  </tbody>\n",
       "</table>\n",
       "</div>"
      ],
      "text/plain": [
       "   id   test_name test_group                      added  person_id\n",
       "0   1  Email Test    holdout 2016-08-02 14:59:15.095591          1\n",
       "1   2  Email Test    variant 2016-08-02 18:15:30.105940          2\n",
       "2   3  Email Test    holdout 2016-08-02 16:11:09.542004          3\n",
       "3   4  Email Test    holdout 2016-08-02 18:02:40.389299          4\n",
       "4   5  Email Test    holdout 2016-08-02 14:31:53.163034          5"
      ]
     },
     "execution_count": 8,
     "metadata": {},
     "output_type": "execute_result"
    }
   ],
   "source": [
    "df_people_test = pd.read_csv('data/people_testsegmentation.csv', low_memory=False, parse_dates=['added'])\n",
    "print(f'Imported people_testsegmentation.csv into df_people_test with shape: {df_people_test.shape}')\n",
    "df_people_test.head()"
   ]
  },
  {
   "cell_type": "markdown",
   "metadata": {},
   "source": [
    "#### pets_pet\n",
    "\n",
    "This table details each pet that a user has added to their profile. One owner may have more\n",
    "than one pet, but not vice versa. Many of the fields on this table are self explanatory but we\n",
    "have detailed a few below.\n",
    "* `description` - A short (lorem ipsum) description of the pet.\n",
    "* `plays_cats` - If 1, then this pet plays well with cats.\n",
    "* `plays_children` - If 1, then this pet plays well with children.\n",
    "* `plays_dogs` - If 1, then this pet plays well with dogs.\n",
    "* `spayed_neutered` - If 1, then this pet has been spayed or neutered.\n",
    "* `house_trained` - If 1, then this pet is house trained.\n",
    "* `owner_id` - This foreign key reports the people_person record for this pet’s owner."
   ]
  },
  {
   "cell_type": "code",
   "execution_count": 9,
   "metadata": {},
   "outputs": [
    {
     "name": "stdout",
     "output_type": "stream",
     "text": [
      "Imported pets_pet.csv into df_pets with shape: (77730, 13)\n"
     ]
    },
    {
     "data": {
      "text/html": [
       "<div>\n",
       "<style scoped>\n",
       "    .dataframe tbody tr th:only-of-type {\n",
       "        vertical-align: middle;\n",
       "    }\n",
       "\n",
       "    .dataframe tbody tr th {\n",
       "        vertical-align: top;\n",
       "    }\n",
       "\n",
       "    .dataframe thead th {\n",
       "        text-align: right;\n",
       "    }\n",
       "</style>\n",
       "<table border=\"1\" class=\"dataframe\">\n",
       "  <thead>\n",
       "    <tr style=\"text-align: right;\">\n",
       "      <th></th>\n",
       "      <th>id</th>\n",
       "      <th>name</th>\n",
       "      <th>description</th>\n",
       "      <th>gender</th>\n",
       "      <th>weight</th>\n",
       "      <th>birthday</th>\n",
       "      <th>plays_cats</th>\n",
       "      <th>plays_children</th>\n",
       "      <th>plays_dogs</th>\n",
       "      <th>spayed_neutered</th>\n",
       "      <th>house_trained</th>\n",
       "      <th>size</th>\n",
       "      <th>owner_id</th>\n",
       "    </tr>\n",
       "  </thead>\n",
       "  <tbody>\n",
       "    <tr>\n",
       "      <td>0</td>\n",
       "      <td>1</td>\n",
       "      <td>Jammie</td>\n",
       "      <td>Morbi fames a mauris elit malesuada platea.</td>\n",
       "      <td>f</td>\n",
       "      <td>76</td>\n",
       "      <td>2016-05-26</td>\n",
       "      <td>1</td>\n",
       "      <td>1</td>\n",
       "      <td>1</td>\n",
       "      <td>1</td>\n",
       "      <td>1</td>\n",
       "      <td>large</td>\n",
       "      <td>12601</td>\n",
       "    </tr>\n",
       "    <tr>\n",
       "      <td>1</td>\n",
       "      <td>2</td>\n",
       "      <td>Lonnie</td>\n",
       "      <td>Class magna a libero felis sociosqu.</td>\n",
       "      <td>f</td>\n",
       "      <td>12</td>\n",
       "      <td>2014-05-20</td>\n",
       "      <td>0</td>\n",
       "      <td>1</td>\n",
       "      <td>1</td>\n",
       "      <td>1</td>\n",
       "      <td>0</td>\n",
       "      <td>small</td>\n",
       "      <td>12602</td>\n",
       "    </tr>\n",
       "    <tr>\n",
       "      <td>2</td>\n",
       "      <td>3</td>\n",
       "      <td>Emely</td>\n",
       "      <td>Felis class.</td>\n",
       "      <td>m</td>\n",
       "      <td>11</td>\n",
       "      <td>2014-08-21</td>\n",
       "      <td>0</td>\n",
       "      <td>1</td>\n",
       "      <td>1</td>\n",
       "      <td>1</td>\n",
       "      <td>0</td>\n",
       "      <td>small</td>\n",
       "      <td>12602</td>\n",
       "    </tr>\n",
       "    <tr>\n",
       "      <td>3</td>\n",
       "      <td>4</td>\n",
       "      <td>Emelia</td>\n",
       "      <td>Fames class egestas mollis risus posuere.</td>\n",
       "      <td>f</td>\n",
       "      <td>35</td>\n",
       "      <td>2013-09-23</td>\n",
       "      <td>1</td>\n",
       "      <td>1</td>\n",
       "      <td>1</td>\n",
       "      <td>0</td>\n",
       "      <td>0</td>\n",
       "      <td>medium</td>\n",
       "      <td>12603</td>\n",
       "    </tr>\n",
       "    <tr>\n",
       "      <td>4</td>\n",
       "      <td>5</td>\n",
       "      <td>Jami</td>\n",
       "      <td>Netus augue a congue orci.</td>\n",
       "      <td>m</td>\n",
       "      <td>35</td>\n",
       "      <td>2014-05-13</td>\n",
       "      <td>0</td>\n",
       "      <td>1</td>\n",
       "      <td>1</td>\n",
       "      <td>1</td>\n",
       "      <td>1</td>\n",
       "      <td>medium</td>\n",
       "      <td>12603</td>\n",
       "    </tr>\n",
       "  </tbody>\n",
       "</table>\n",
       "</div>"
      ],
      "text/plain": [
       "   id    name                                  description gender  weight  \\\n",
       "0   1  Jammie  Morbi fames a mauris elit malesuada platea.      f      76   \n",
       "1   2  Lonnie         Class magna a libero felis sociosqu.      f      12   \n",
       "2   3   Emely                                 Felis class.      m      11   \n",
       "3   4  Emelia    Fames class egestas mollis risus posuere.      f      35   \n",
       "4   5    Jami                   Netus augue a congue orci.      m      35   \n",
       "\n",
       "    birthday  plays_cats  plays_children  plays_dogs  spayed_neutered  \\\n",
       "0 2016-05-26           1               1           1                1   \n",
       "1 2014-05-20           0               1           1                1   \n",
       "2 2014-08-21           0               1           1                1   \n",
       "3 2013-09-23           1               1           1                0   \n",
       "4 2014-05-13           0               1           1                1   \n",
       "\n",
       "   house_trained    size  owner_id  \n",
       "0              1   large     12601  \n",
       "1              0   small     12602  \n",
       "2              0   small     12602  \n",
       "3              0  medium     12603  \n",
       "4              1  medium     12603  "
      ]
     },
     "execution_count": 9,
     "metadata": {},
     "output_type": "execute_result"
    }
   ],
   "source": [
    "df_pets = pd.read_csv('data/pets_pet.csv', low_memory=False, parse_dates=['birthday'])\n",
    "print(f'Imported pets_pet.csv into df_pets with shape: {df_pets.shape}')\n",
    "df_pets.head()"
   ]
  },
  {
   "cell_type": "markdown",
   "metadata": {},
   "source": [
    "#### services_service\n",
    "\n",
    "On our site, users may offer pet care services. This table stores a record for each service that is\n",
    "offered. Each user can offer more than one service, but not more than one of each type. Many\n",
    "of the fields on this table are self explanatory but we have detailed a few below.\n",
    "* `max_dogs` - This number is the maximum number of pets this provider would prefer to\n",
    "care for.\n",
    "* `fee` - When a user books with a service, we take a percentage of the booking total. This\n",
    "field reports the percentage.\n",
    "* `provider_id` - This foreign key reports the people_person record for this service’s\n",
    "provider.\n",
    "* `added` - A timestamp for when this service became active.\n",
    "* `price` - The price per unit booked."
   ]
  },
  {
   "cell_type": "code",
   "execution_count": 10,
   "metadata": {},
   "outputs": [
    {
     "name": "stdout",
     "output_type": "stream",
     "text": [
      "Imported services_service.csv into df_services with shape: (21398, 16)\n"
     ]
    },
    {
     "data": {
      "text/html": [
       "<div>\n",
       "<style scoped>\n",
       "    .dataframe tbody tr th:only-of-type {\n",
       "        vertical-align: middle;\n",
       "    }\n",
       "\n",
       "    .dataframe tbody tr th {\n",
       "        vertical-align: top;\n",
       "    }\n",
       "\n",
       "    .dataframe thead th {\n",
       "        text-align: right;\n",
       "    }\n",
       "</style>\n",
       "<table border=\"1\" class=\"dataframe\">\n",
       "  <thead>\n",
       "    <tr style=\"text-align: right;\">\n",
       "      <th></th>\n",
       "      <th>id</th>\n",
       "      <th>service_type</th>\n",
       "      <th>cancellation_policy</th>\n",
       "      <th>can_provide_oral_medication</th>\n",
       "      <th>can_provide_injected_medication</th>\n",
       "      <th>senior_dog_experience</th>\n",
       "      <th>special_needs_experience</th>\n",
       "      <th>takes_small_dogs</th>\n",
       "      <th>takes_medium_dogs</th>\n",
       "      <th>takes_large_dogs</th>\n",
       "      <th>takes_puppies</th>\n",
       "      <th>max_dogs</th>\n",
       "      <th>provider_id</th>\n",
       "      <th>fee</th>\n",
       "      <th>price</th>\n",
       "      <th>added</th>\n",
       "    </tr>\n",
       "  </thead>\n",
       "  <tbody>\n",
       "    <tr>\n",
       "      <td>0</td>\n",
       "      <td>1</td>\n",
       "      <td>boarding</td>\n",
       "      <td>strict</td>\n",
       "      <td>1</td>\n",
       "      <td>1</td>\n",
       "      <td>1</td>\n",
       "      <td>1</td>\n",
       "      <td>0</td>\n",
       "      <td>1</td>\n",
       "      <td>1</td>\n",
       "      <td>1</td>\n",
       "      <td>4</td>\n",
       "      <td>1</td>\n",
       "      <td>0.15</td>\n",
       "      <td>35</td>\n",
       "      <td>2016-08-02 14:59:15.095591</td>\n",
       "    </tr>\n",
       "    <tr>\n",
       "      <td>1</td>\n",
       "      <td>2</td>\n",
       "      <td>dog-walking</td>\n",
       "      <td>strict</td>\n",
       "      <td>1</td>\n",
       "      <td>0</td>\n",
       "      <td>1</td>\n",
       "      <td>1</td>\n",
       "      <td>0</td>\n",
       "      <td>0</td>\n",
       "      <td>1</td>\n",
       "      <td>1</td>\n",
       "      <td>5</td>\n",
       "      <td>1</td>\n",
       "      <td>0.15</td>\n",
       "      <td>26</td>\n",
       "      <td>2016-08-02 14:59:15.095591</td>\n",
       "    </tr>\n",
       "    <tr>\n",
       "      <td>2</td>\n",
       "      <td>3</td>\n",
       "      <td>boarding</td>\n",
       "      <td>moderate</td>\n",
       "      <td>0</td>\n",
       "      <td>0</td>\n",
       "      <td>1</td>\n",
       "      <td>0</td>\n",
       "      <td>0</td>\n",
       "      <td>0</td>\n",
       "      <td>1</td>\n",
       "      <td>1</td>\n",
       "      <td>2</td>\n",
       "      <td>2</td>\n",
       "      <td>0.15</td>\n",
       "      <td>31</td>\n",
       "      <td>2016-08-02 18:15:30.105940</td>\n",
       "    </tr>\n",
       "    <tr>\n",
       "      <td>3</td>\n",
       "      <td>4</td>\n",
       "      <td>dog-walking</td>\n",
       "      <td>strict</td>\n",
       "      <td>1</td>\n",
       "      <td>0</td>\n",
       "      <td>1</td>\n",
       "      <td>0</td>\n",
       "      <td>1</td>\n",
       "      <td>0</td>\n",
       "      <td>0</td>\n",
       "      <td>1</td>\n",
       "      <td>5</td>\n",
       "      <td>2</td>\n",
       "      <td>0.15</td>\n",
       "      <td>27</td>\n",
       "      <td>2016-08-02 18:15:30.105940</td>\n",
       "    </tr>\n",
       "    <tr>\n",
       "      <td>4</td>\n",
       "      <td>5</td>\n",
       "      <td>day-care</td>\n",
       "      <td>strict</td>\n",
       "      <td>1</td>\n",
       "      <td>0</td>\n",
       "      <td>1</td>\n",
       "      <td>1</td>\n",
       "      <td>0</td>\n",
       "      <td>1</td>\n",
       "      <td>1</td>\n",
       "      <td>1</td>\n",
       "      <td>5</td>\n",
       "      <td>2</td>\n",
       "      <td>0.15</td>\n",
       "      <td>30</td>\n",
       "      <td>2016-08-02 18:15:30.105940</td>\n",
       "    </tr>\n",
       "  </tbody>\n",
       "</table>\n",
       "</div>"
      ],
      "text/plain": [
       "   id service_type cancellation_policy  can_provide_oral_medication  \\\n",
       "0   1     boarding              strict                            1   \n",
       "1   2  dog-walking              strict                            1   \n",
       "2   3     boarding            moderate                            0   \n",
       "3   4  dog-walking              strict                            1   \n",
       "4   5     day-care              strict                            1   \n",
       "\n",
       "   can_provide_injected_medication  senior_dog_experience  \\\n",
       "0                                1                      1   \n",
       "1                                0                      1   \n",
       "2                                0                      1   \n",
       "3                                0                      1   \n",
       "4                                0                      1   \n",
       "\n",
       "   special_needs_experience  takes_small_dogs  takes_medium_dogs  \\\n",
       "0                         1                 0                  1   \n",
       "1                         1                 0                  0   \n",
       "2                         0                 0                  0   \n",
       "3                         0                 1                  0   \n",
       "4                         1                 0                  1   \n",
       "\n",
       "   takes_large_dogs  takes_puppies  max_dogs  provider_id   fee  price  \\\n",
       "0                 1              1         4            1  0.15     35   \n",
       "1                 1              1         5            1  0.15     26   \n",
       "2                 1              1         2            2  0.15     31   \n",
       "3                 0              1         5            2  0.15     27   \n",
       "4                 1              1         5            2  0.15     30   \n",
       "\n",
       "                       added  \n",
       "0 2016-08-02 14:59:15.095591  \n",
       "1 2016-08-02 14:59:15.095591  \n",
       "2 2016-08-02 18:15:30.105940  \n",
       "3 2016-08-02 18:15:30.105940  \n",
       "4 2016-08-02 18:15:30.105940  "
      ]
     },
     "execution_count": 10,
     "metadata": {},
     "output_type": "execute_result"
    }
   ],
   "source": [
    "df_services = pd.read_csv('data/services_service.csv', low_memory=False, parse_dates=['added'])\n",
    "print(f'Imported services_service.csv into df_services with shape: {df_services.shape}')\n",
    "df_services.head()"
   ]
  },
  {
   "cell_type": "markdown",
   "metadata": {},
   "source": [
    "**Normalizing Dates**\n",
    "\n",
    "\n",
    "We only need to group the data by year, month, and day. The time component is not relevant for the questions in this assessment so we will remove it."
   ]
  },
  {
   "cell_type": "code",
   "execution_count": 11,
   "metadata": {},
   "outputs": [],
   "source": [
    "dataframes = [df_conversations, df_conversations_message, df_conversations_pets, df_conversations_review,\n",
    "              df_people_person, df_people_test, df_pets, df_services]\n",
    "\n",
    "for dataframe in dataframes:\n",
    "    date_cols = dataframe.select_dtypes(include=['datetime64[ns]'])\n",
    "    \n",
    "    for col in date_cols:\n",
    "        dataframe[col] = dataframe[col].dt.normalize()"
   ]
  },
  {
   "cell_type": "markdown",
   "metadata": {},
   "source": [
    "<a id='1'></a>\n",
    "## I. Exploring the Database\n",
    "1. How many users have signed up?  \n",
    "*The answer is 64393.*\n",
    "2. How many users signed up prior to 2018-02-03?  \n",
    "*The answer is 35826.*\n",
    "3. What percentage of users have added pets?  \n",
    "*The answer is 80.43%.*\n",
    "4. Of those users, how many pets have they added on average?  \n",
    "*The answer is 1.501.*\n",
    "5. What percentage of pets play well with cats?  \n",
    "*The answer is 24.85%.*"
   ]
  },
  {
   "cell_type": "code",
   "execution_count": 12,
   "metadata": {},
   "outputs": [
    {
     "data": {
      "text/plain": [
       "64393"
      ]
     },
     "execution_count": 12,
     "metadata": {},
     "output_type": "execute_result"
    }
   ],
   "source": [
    "# 1. How many users have signed up?\n",
    "df_people_person['id'].nunique()"
   ]
  },
  {
   "cell_type": "code",
   "execution_count": 13,
   "metadata": {},
   "outputs": [
    {
     "data": {
      "text/plain": [
       "35826"
      ]
     },
     "execution_count": 13,
     "metadata": {},
     "output_type": "execute_result"
    }
   ],
   "source": [
    "# 2. How many users signed up prior to 2018-02-03?\n",
    "sum(df_people_person['date_joined'] < pd.Timestamp(2018,2,3))"
   ]
  },
  {
   "cell_type": "code",
   "execution_count": 14,
   "metadata": {},
   "outputs": [
    {
     "data": {
      "text/plain": [
       "80.43"
      ]
     },
     "execution_count": 14,
     "metadata": {},
     "output_type": "execute_result"
    }
   ],
   "source": [
    "# 3. What percentage of users have added pets?\n",
    "round(df_pets['owner_id'].nunique()/df_people_person['id'].nunique() * 100, 2)"
   ]
  },
  {
   "cell_type": "code",
   "execution_count": 15,
   "metadata": {},
   "outputs": [
    {
     "data": {
      "text/plain": [
       "1.501"
      ]
     },
     "execution_count": 15,
     "metadata": {},
     "output_type": "execute_result"
    }
   ],
   "source": [
    "# 4. Of those users, how many pets have they added on average?\n",
    "round(len(df_pets)/df_pets['owner_id'].nunique(), 3)"
   ]
  },
  {
   "cell_type": "code",
   "execution_count": 16,
   "metadata": {},
   "outputs": [
    {
     "data": {
      "text/plain": [
       "24.85"
      ]
     },
     "execution_count": 16,
     "metadata": {},
     "output_type": "execute_result"
    }
   ],
   "source": [
    "# 5. What percentage of pets play well with cats?\n",
    "round(df_pets['plays_cats'].sum()/len(df_pets) * 100, 2)"
   ]
  },
  {
   "cell_type": "markdown",
   "metadata": {},
   "source": [
    "<a id='2'></a>\n",
    "## II. Conversations and Bookings\n",
    "\n",
    "Some users can offer pet care services. When an owner needs pet care, they can create a conversation with another user that offers the service they are interested in. After exchanging some messages and possibly meeting in person, that conversation hopefully books. In that case, services are paid for and delivered. Occasionally, some conversations that have booked may be cancelled. Lastly, for un-cancelled bookings, both owners and sitters have the option of leaving a review.  In the following questions, we explore these concepts.\n",
    "\n",
    "1. For un-cancelled bookings, is the owner or provider more likely to leave a review and\n",
    "which tends to leave better reviews? How would you narrate this finding to a business partner?"
   ]
  },
  {
   "cell_type": "markdown",
   "metadata": {},
   "source": [
    "First, let's get all the uncancelled bookings."
   ]
  },
  {
   "cell_type": "code",
   "execution_count": 17,
   "metadata": {},
   "outputs": [
    {
     "data": {
      "text/html": [
       "<div>\n",
       "<style scoped>\n",
       "    .dataframe tbody tr th:only-of-type {\n",
       "        vertical-align: middle;\n",
       "    }\n",
       "\n",
       "    .dataframe tbody tr th {\n",
       "        vertical-align: top;\n",
       "    }\n",
       "\n",
       "    .dataframe thead th {\n",
       "        text-align: right;\n",
       "    }\n",
       "</style>\n",
       "<table border=\"1\" class=\"dataframe\">\n",
       "  <thead>\n",
       "    <tr style=\"text-align: right;\">\n",
       "      <th></th>\n",
       "      <th>id</th>\n",
       "      <th>start_date</th>\n",
       "      <th>end_date</th>\n",
       "      <th>units</th>\n",
       "      <th>added</th>\n",
       "      <th>booking_total</th>\n",
       "      <th>cancellation_fault</th>\n",
       "      <th>requester_id</th>\n",
       "      <th>service_id</th>\n",
       "      <th>booked_at</th>\n",
       "      <th>cancelled_at</th>\n",
       "    </tr>\n",
       "  </thead>\n",
       "  <tbody>\n",
       "    <tr>\n",
       "      <td>5</td>\n",
       "      <td>6</td>\n",
       "      <td>2018-07-04</td>\n",
       "      <td>2018-07-07</td>\n",
       "      <td>3</td>\n",
       "      <td>2018-06-23</td>\n",
       "      <td>78</td>\n",
       "      <td>NaN</td>\n",
       "      <td>64388</td>\n",
       "      <td>14772</td>\n",
       "      <td>2018-06-27</td>\n",
       "      <td>NaT</td>\n",
       "    </tr>\n",
       "    <tr>\n",
       "      <td>6</td>\n",
       "      <td>7</td>\n",
       "      <td>2018-07-31</td>\n",
       "      <td>2018-08-04</td>\n",
       "      <td>4</td>\n",
       "      <td>2018-07-21</td>\n",
       "      <td>100</td>\n",
       "      <td>NaN</td>\n",
       "      <td>64386</td>\n",
       "      <td>14783</td>\n",
       "      <td>2018-07-22</td>\n",
       "      <td>NaT</td>\n",
       "    </tr>\n",
       "    <tr>\n",
       "      <td>8</td>\n",
       "      <td>9</td>\n",
       "      <td>2018-07-02</td>\n",
       "      <td>2018-07-03</td>\n",
       "      <td>1</td>\n",
       "      <td>2018-06-21</td>\n",
       "      <td>23</td>\n",
       "      <td>NaN</td>\n",
       "      <td>64384</td>\n",
       "      <td>7656</td>\n",
       "      <td>2018-06-23</td>\n",
       "      <td>NaT</td>\n",
       "    </tr>\n",
       "    <tr>\n",
       "      <td>10</td>\n",
       "      <td>11</td>\n",
       "      <td>2018-06-12</td>\n",
       "      <td>2018-06-18</td>\n",
       "      <td>6</td>\n",
       "      <td>2018-06-03</td>\n",
       "      <td>300</td>\n",
       "      <td>NaN</td>\n",
       "      <td>64382</td>\n",
       "      <td>2512</td>\n",
       "      <td>2018-06-07</td>\n",
       "      <td>NaT</td>\n",
       "    </tr>\n",
       "    <tr>\n",
       "      <td>12</td>\n",
       "      <td>13</td>\n",
       "      <td>2018-07-24</td>\n",
       "      <td>2018-07-27</td>\n",
       "      <td>3</td>\n",
       "      <td>2018-07-13</td>\n",
       "      <td>126</td>\n",
       "      <td>NaN</td>\n",
       "      <td>64381</td>\n",
       "      <td>1634</td>\n",
       "      <td>2018-07-19</td>\n",
       "      <td>NaT</td>\n",
       "    </tr>\n",
       "  </tbody>\n",
       "</table>\n",
       "</div>"
      ],
      "text/plain": [
       "    id start_date   end_date  units      added  booking_total  \\\n",
       "5    6 2018-07-04 2018-07-07      3 2018-06-23             78   \n",
       "6    7 2018-07-31 2018-08-04      4 2018-07-21            100   \n",
       "8    9 2018-07-02 2018-07-03      1 2018-06-21             23   \n",
       "10  11 2018-06-12 2018-06-18      6 2018-06-03            300   \n",
       "12  13 2018-07-24 2018-07-27      3 2018-07-13            126   \n",
       "\n",
       "   cancellation_fault  requester_id  service_id  booked_at cancelled_at  \n",
       "5                 NaN         64388       14772 2018-06-27          NaT  \n",
       "6                 NaN         64386       14783 2018-07-22          NaT  \n",
       "8                 NaN         64384        7656 2018-06-23          NaT  \n",
       "10                NaN         64382        2512 2018-06-07          NaT  \n",
       "12                NaN         64381        1634 2018-07-19          NaT  "
      ]
     },
     "execution_count": 17,
     "metadata": {},
     "output_type": "execute_result"
    }
   ],
   "source": [
    "mask = df_conversations['booked_at'].notnull() & df_conversations['cancelled_at'].isnull()\n",
    "uncancelled_bookings = df_conversations.loc[mask, :]\n",
    "uncancelled_bookings.head()"
   ]
  },
  {
   "cell_type": "code",
   "execution_count": 18,
   "metadata": {},
   "outputs": [
    {
     "data": {
      "text/html": [
       "<div>\n",
       "<style scoped>\n",
       "    .dataframe tbody tr th:only-of-type {\n",
       "        vertical-align: middle;\n",
       "    }\n",
       "\n",
       "    .dataframe tbody tr th {\n",
       "        vertical-align: top;\n",
       "    }\n",
       "\n",
       "    .dataframe thead th {\n",
       "        text-align: right;\n",
       "    }\n",
       "</style>\n",
       "<table border=\"1\" class=\"dataframe\">\n",
       "  <thead>\n",
       "    <tr style=\"text-align: right;\">\n",
       "      <th></th>\n",
       "      <th>id</th>\n",
       "      <th>content</th>\n",
       "      <th>stars</th>\n",
       "      <th>conversation_id</th>\n",
       "      <th>reviewer_id</th>\n",
       "    </tr>\n",
       "  </thead>\n",
       "  <tbody>\n",
       "    <tr>\n",
       "      <td>0</td>\n",
       "      <td>1</td>\n",
       "      <td>Netus proin per duis dolor venenatis nam.</td>\n",
       "      <td>1</td>\n",
       "      <td>7</td>\n",
       "      <td>64386</td>\n",
       "    </tr>\n",
       "    <tr>\n",
       "      <td>1</td>\n",
       "      <td>2</td>\n",
       "      <td>Dolor proin donec phasellus ve suspendisse ac ...</td>\n",
       "      <td>5</td>\n",
       "      <td>9</td>\n",
       "      <td>64384</td>\n",
       "    </tr>\n",
       "    <tr>\n",
       "      <td>2</td>\n",
       "      <td>3</td>\n",
       "      <td>Proin ipsum urna nisl egestas justo class a ar...</td>\n",
       "      <td>5</td>\n",
       "      <td>11</td>\n",
       "      <td>64382</td>\n",
       "    </tr>\n",
       "    <tr>\n",
       "      <td>3</td>\n",
       "      <td>4</td>\n",
       "      <td>Porta velit lectus varius donec tellus sollici...</td>\n",
       "      <td>1</td>\n",
       "      <td>13</td>\n",
       "      <td>64381</td>\n",
       "    </tr>\n",
       "    <tr>\n",
       "      <td>4</td>\n",
       "      <td>5</td>\n",
       "      <td>Dolor felis.</td>\n",
       "      <td>2</td>\n",
       "      <td>15</td>\n",
       "      <td>64379</td>\n",
       "    </tr>\n",
       "  </tbody>\n",
       "</table>\n",
       "</div>"
      ],
      "text/plain": [
       "   id                                            content  stars  \\\n",
       "0   1          Netus proin per duis dolor venenatis nam.      1   \n",
       "1   2  Dolor proin donec phasellus ve suspendisse ac ...      5   \n",
       "2   3  Proin ipsum urna nisl egestas justo class a ar...      5   \n",
       "3   4  Porta velit lectus varius donec tellus sollici...      1   \n",
       "4   5                                       Dolor felis.      2   \n",
       "\n",
       "   conversation_id  reviewer_id  \n",
       "0                7        64386  \n",
       "1                9        64384  \n",
       "2               11        64382  \n",
       "3               13        64381  \n",
       "4               15        64379  "
      ]
     },
     "execution_count": 18,
     "metadata": {},
     "output_type": "execute_result"
    }
   ],
   "source": [
    "df_conversations_review.head()"
   ]
  },
  {
   "cell_type": "markdown",
   "metadata": {},
   "source": [
    "We need to join the reviews to the uncancelled bookings. Once we do that we only need to keep requester_id, reviewer_id, and stars in order to determine the differences between owners and providers."
   ]
  },
  {
   "cell_type": "code",
   "execution_count": 19,
   "metadata": {},
   "outputs": [
    {
     "data": {
      "text/html": [
       "<div>\n",
       "<style scoped>\n",
       "    .dataframe tbody tr th:only-of-type {\n",
       "        vertical-align: middle;\n",
       "    }\n",
       "\n",
       "    .dataframe tbody tr th {\n",
       "        vertical-align: top;\n",
       "    }\n",
       "\n",
       "    .dataframe thead th {\n",
       "        text-align: right;\n",
       "    }\n",
       "</style>\n",
       "<table border=\"1\" class=\"dataframe\">\n",
       "  <thead>\n",
       "    <tr style=\"text-align: right;\">\n",
       "      <th></th>\n",
       "      <th>requester_id</th>\n",
       "      <th>reviewer_id</th>\n",
       "      <th>stars</th>\n",
       "    </tr>\n",
       "  </thead>\n",
       "  <tbody>\n",
       "    <tr>\n",
       "      <td>0</td>\n",
       "      <td>64386</td>\n",
       "      <td>64386</td>\n",
       "      <td>1</td>\n",
       "    </tr>\n",
       "    <tr>\n",
       "      <td>1</td>\n",
       "      <td>64384</td>\n",
       "      <td>64384</td>\n",
       "      <td>5</td>\n",
       "    </tr>\n",
       "    <tr>\n",
       "      <td>2</td>\n",
       "      <td>64382</td>\n",
       "      <td>64382</td>\n",
       "      <td>5</td>\n",
       "    </tr>\n",
       "    <tr>\n",
       "      <td>3</td>\n",
       "      <td>64381</td>\n",
       "      <td>64381</td>\n",
       "      <td>1</td>\n",
       "    </tr>\n",
       "    <tr>\n",
       "      <td>4</td>\n",
       "      <td>64379</td>\n",
       "      <td>64379</td>\n",
       "      <td>2</td>\n",
       "    </tr>\n",
       "  </tbody>\n",
       "</table>\n",
       "</div>"
      ],
      "text/plain": [
       "   requester_id  reviewer_id  stars\n",
       "0         64386        64386      1\n",
       "1         64384        64384      5\n",
       "2         64382        64382      5\n",
       "3         64381        64381      1\n",
       "4         64379        64379      2"
      ]
     },
     "execution_count": 19,
     "metadata": {},
     "output_type": "execute_result"
    }
   ],
   "source": [
    "df_reviews = pd.merge(uncancelled_bookings, df_conversations_review,\n",
    "                      left_on='id', right_on='conversation_id')[['requester_id', 'reviewer_id', 'stars']]\n",
    "df_reviews.head()"
   ]
  },
  {
   "cell_type": "markdown",
   "metadata": {},
   "source": [
    "If the person leaving the review is also the person who requested the service then we know it is an owner's review. "
   ]
  },
  {
   "cell_type": "code",
   "execution_count": 20,
   "metadata": {},
   "outputs": [
    {
     "data": {
      "text/html": [
       "<div>\n",
       "<style scoped>\n",
       "    .dataframe tbody tr th:only-of-type {\n",
       "        vertical-align: middle;\n",
       "    }\n",
       "\n",
       "    .dataframe tbody tr th {\n",
       "        vertical-align: top;\n",
       "    }\n",
       "\n",
       "    .dataframe thead th {\n",
       "        text-align: right;\n",
       "    }\n",
       "</style>\n",
       "<table border=\"1\" class=\"dataframe\">\n",
       "  <thead>\n",
       "    <tr style=\"text-align: right;\">\n",
       "      <th></th>\n",
       "      <th>requester_id</th>\n",
       "      <th>reviewer_id</th>\n",
       "      <th>stars</th>\n",
       "      <th>reviewer_type</th>\n",
       "    </tr>\n",
       "  </thead>\n",
       "  <tbody>\n",
       "    <tr>\n",
       "      <td>0</td>\n",
       "      <td>64386</td>\n",
       "      <td>64386</td>\n",
       "      <td>1</td>\n",
       "      <td>owner</td>\n",
       "    </tr>\n",
       "    <tr>\n",
       "      <td>1</td>\n",
       "      <td>64384</td>\n",
       "      <td>64384</td>\n",
       "      <td>5</td>\n",
       "      <td>owner</td>\n",
       "    </tr>\n",
       "    <tr>\n",
       "      <td>2</td>\n",
       "      <td>64382</td>\n",
       "      <td>64382</td>\n",
       "      <td>5</td>\n",
       "      <td>owner</td>\n",
       "    </tr>\n",
       "    <tr>\n",
       "      <td>3</td>\n",
       "      <td>64381</td>\n",
       "      <td>64381</td>\n",
       "      <td>1</td>\n",
       "      <td>owner</td>\n",
       "    </tr>\n",
       "    <tr>\n",
       "      <td>4</td>\n",
       "      <td>64379</td>\n",
       "      <td>64379</td>\n",
       "      <td>2</td>\n",
       "      <td>owner</td>\n",
       "    </tr>\n",
       "  </tbody>\n",
       "</table>\n",
       "</div>"
      ],
      "text/plain": [
       "   requester_id  reviewer_id  stars reviewer_type\n",
       "0         64386        64386      1         owner\n",
       "1         64384        64384      5         owner\n",
       "2         64382        64382      5         owner\n",
       "3         64381        64381      1         owner\n",
       "4         64379        64379      2         owner"
      ]
     },
     "execution_count": 20,
     "metadata": {},
     "output_type": "execute_result"
    }
   ],
   "source": [
    "df_reviews['reviewer_type'] = np.where(df_reviews['reviewer_id'] == df_reviews['requester_id'], 'owner', 'provider')\n",
    "df_reviews.head(5)"
   ]
  },
  {
   "cell_type": "code",
   "execution_count": 21,
   "metadata": {},
   "outputs": [
    {
     "data": {
      "text/html": [
       "<div>\n",
       "<style scoped>\n",
       "    .dataframe tbody tr th:only-of-type {\n",
       "        vertical-align: middle;\n",
       "    }\n",
       "\n",
       "    .dataframe tbody tr th {\n",
       "        vertical-align: top;\n",
       "    }\n",
       "\n",
       "    .dataframe thead th {\n",
       "        text-align: right;\n",
       "    }\n",
       "</style>\n",
       "<table border=\"1\" class=\"dataframe\">\n",
       "  <thead>\n",
       "    <tr style=\"text-align: right;\">\n",
       "      <th></th>\n",
       "      <th>count</th>\n",
       "      <th>mean</th>\n",
       "    </tr>\n",
       "    <tr>\n",
       "      <th>reviewer_type</th>\n",
       "      <th></th>\n",
       "      <th></th>\n",
       "    </tr>\n",
       "  </thead>\n",
       "  <tbody>\n",
       "    <tr>\n",
       "      <td>owner</td>\n",
       "      <td>22499</td>\n",
       "      <td>4.415841</td>\n",
       "    </tr>\n",
       "    <tr>\n",
       "      <td>provider</td>\n",
       "      <td>6062</td>\n",
       "      <td>3.904817</td>\n",
       "    </tr>\n",
       "  </tbody>\n",
       "</table>\n",
       "</div>"
      ],
      "text/plain": [
       "               count      mean\n",
       "reviewer_type                 \n",
       "owner          22499  4.415841\n",
       "provider        6062  3.904817"
      ]
     },
     "execution_count": 21,
     "metadata": {},
     "output_type": "execute_result"
    }
   ],
   "source": [
    "df_reviews.groupby('reviewer_type', as_index = False).agg(['count', 'mean'])['stars']"
   ]
  },
  {
   "cell_type": "markdown",
   "metadata": {},
   "source": [
    "**Answer:**  \n",
    "\n",
    "As we can see in the table above, pet owners are nearly 4 times as likely to leave a review compared to the providers. Pet owners also give higher average reviews of around 4.42 stars compared to 3.89 stars from providers. This is approximately half a star higher.\n",
    "\n",
    "To narrate this finding to a business partner I would use the simple chart below to show the discrepancy between how often providers and owners leave reviews. To show the average rating, I would simply use the table in the cell above that shows the mean rating by reviewer type. This information can easily be communicated with text instead of a chart."
   ]
  },
  {
   "cell_type": "code",
   "execution_count": 88,
   "metadata": {},
   "outputs": [
    {
     "data": {
      "application/vnd.plotly.v1+json": {
       "config": {
        "plotlyServerURL": "https://plot.ly"
       },
       "data": [
        {
         "hovertext": [
          "79.0% of Reviews",
          "21.0% of Reviews"
         ],
         "marker": {
          "color": "crimson",
          "line": {
           "color": "black",
           "width": 1.5
          }
         },
         "opacity": 0.8,
         "type": "bar",
         "x": [
          "Owner",
          "Provider"
         ],
         "y": [
          22.499,
          6.062
         ]
        }
       ],
       "layout": {
        "autosize": true,
        "template": {
         "data": {
          "bar": [
           {
            "error_x": {
             "color": "#2a3f5f"
            },
            "error_y": {
             "color": "#2a3f5f"
            },
            "marker": {
             "line": {
              "color": "#E5ECF6",
              "width": 0.5
             }
            },
            "type": "bar"
           }
          ],
          "barpolar": [
           {
            "marker": {
             "line": {
              "color": "#E5ECF6",
              "width": 0.5
             }
            },
            "type": "barpolar"
           }
          ],
          "carpet": [
           {
            "aaxis": {
             "endlinecolor": "#2a3f5f",
             "gridcolor": "white",
             "linecolor": "white",
             "minorgridcolor": "white",
             "startlinecolor": "#2a3f5f"
            },
            "baxis": {
             "endlinecolor": "#2a3f5f",
             "gridcolor": "white",
             "linecolor": "white",
             "minorgridcolor": "white",
             "startlinecolor": "#2a3f5f"
            },
            "type": "carpet"
           }
          ],
          "choropleth": [
           {
            "colorbar": {
             "outlinewidth": 0,
             "ticks": ""
            },
            "type": "choropleth"
           }
          ],
          "contour": [
           {
            "colorbar": {
             "outlinewidth": 0,
             "ticks": ""
            },
            "colorscale": [
             [
              0,
              "#0d0887"
             ],
             [
              0.1111111111111111,
              "#46039f"
             ],
             [
              0.2222222222222222,
              "#7201a8"
             ],
             [
              0.3333333333333333,
              "#9c179e"
             ],
             [
              0.4444444444444444,
              "#bd3786"
             ],
             [
              0.5555555555555556,
              "#d8576b"
             ],
             [
              0.6666666666666666,
              "#ed7953"
             ],
             [
              0.7777777777777778,
              "#fb9f3a"
             ],
             [
              0.8888888888888888,
              "#fdca26"
             ],
             [
              1,
              "#f0f921"
             ]
            ],
            "type": "contour"
           }
          ],
          "contourcarpet": [
           {
            "colorbar": {
             "outlinewidth": 0,
             "ticks": ""
            },
            "type": "contourcarpet"
           }
          ],
          "heatmap": [
           {
            "colorbar": {
             "outlinewidth": 0,
             "ticks": ""
            },
            "colorscale": [
             [
              0,
              "#0d0887"
             ],
             [
              0.1111111111111111,
              "#46039f"
             ],
             [
              0.2222222222222222,
              "#7201a8"
             ],
             [
              0.3333333333333333,
              "#9c179e"
             ],
             [
              0.4444444444444444,
              "#bd3786"
             ],
             [
              0.5555555555555556,
              "#d8576b"
             ],
             [
              0.6666666666666666,
              "#ed7953"
             ],
             [
              0.7777777777777778,
              "#fb9f3a"
             ],
             [
              0.8888888888888888,
              "#fdca26"
             ],
             [
              1,
              "#f0f921"
             ]
            ],
            "type": "heatmap"
           }
          ],
          "heatmapgl": [
           {
            "colorbar": {
             "outlinewidth": 0,
             "ticks": ""
            },
            "colorscale": [
             [
              0,
              "#0d0887"
             ],
             [
              0.1111111111111111,
              "#46039f"
             ],
             [
              0.2222222222222222,
              "#7201a8"
             ],
             [
              0.3333333333333333,
              "#9c179e"
             ],
             [
              0.4444444444444444,
              "#bd3786"
             ],
             [
              0.5555555555555556,
              "#d8576b"
             ],
             [
              0.6666666666666666,
              "#ed7953"
             ],
             [
              0.7777777777777778,
              "#fb9f3a"
             ],
             [
              0.8888888888888888,
              "#fdca26"
             ],
             [
              1,
              "#f0f921"
             ]
            ],
            "type": "heatmapgl"
           }
          ],
          "histogram": [
           {
            "marker": {
             "colorbar": {
              "outlinewidth": 0,
              "ticks": ""
             }
            },
            "type": "histogram"
           }
          ],
          "histogram2d": [
           {
            "colorbar": {
             "outlinewidth": 0,
             "ticks": ""
            },
            "colorscale": [
             [
              0,
              "#0d0887"
             ],
             [
              0.1111111111111111,
              "#46039f"
             ],
             [
              0.2222222222222222,
              "#7201a8"
             ],
             [
              0.3333333333333333,
              "#9c179e"
             ],
             [
              0.4444444444444444,
              "#bd3786"
             ],
             [
              0.5555555555555556,
              "#d8576b"
             ],
             [
              0.6666666666666666,
              "#ed7953"
             ],
             [
              0.7777777777777778,
              "#fb9f3a"
             ],
             [
              0.8888888888888888,
              "#fdca26"
             ],
             [
              1,
              "#f0f921"
             ]
            ],
            "type": "histogram2d"
           }
          ],
          "histogram2dcontour": [
           {
            "colorbar": {
             "outlinewidth": 0,
             "ticks": ""
            },
            "colorscale": [
             [
              0,
              "#0d0887"
             ],
             [
              0.1111111111111111,
              "#46039f"
             ],
             [
              0.2222222222222222,
              "#7201a8"
             ],
             [
              0.3333333333333333,
              "#9c179e"
             ],
             [
              0.4444444444444444,
              "#bd3786"
             ],
             [
              0.5555555555555556,
              "#d8576b"
             ],
             [
              0.6666666666666666,
              "#ed7953"
             ],
             [
              0.7777777777777778,
              "#fb9f3a"
             ],
             [
              0.8888888888888888,
              "#fdca26"
             ],
             [
              1,
              "#f0f921"
             ]
            ],
            "type": "histogram2dcontour"
           }
          ],
          "mesh3d": [
           {
            "colorbar": {
             "outlinewidth": 0,
             "ticks": ""
            },
            "type": "mesh3d"
           }
          ],
          "parcoords": [
           {
            "line": {
             "colorbar": {
              "outlinewidth": 0,
              "ticks": ""
             }
            },
            "type": "parcoords"
           }
          ],
          "scatter": [
           {
            "marker": {
             "colorbar": {
              "outlinewidth": 0,
              "ticks": ""
             }
            },
            "type": "scatter"
           }
          ],
          "scatter3d": [
           {
            "line": {
             "colorbar": {
              "outlinewidth": 0,
              "ticks": ""
             }
            },
            "marker": {
             "colorbar": {
              "outlinewidth": 0,
              "ticks": ""
             }
            },
            "type": "scatter3d"
           }
          ],
          "scattercarpet": [
           {
            "marker": {
             "colorbar": {
              "outlinewidth": 0,
              "ticks": ""
             }
            },
            "type": "scattercarpet"
           }
          ],
          "scattergeo": [
           {
            "marker": {
             "colorbar": {
              "outlinewidth": 0,
              "ticks": ""
             }
            },
            "type": "scattergeo"
           }
          ],
          "scattergl": [
           {
            "marker": {
             "colorbar": {
              "outlinewidth": 0,
              "ticks": ""
             }
            },
            "type": "scattergl"
           }
          ],
          "scattermapbox": [
           {
            "marker": {
             "colorbar": {
              "outlinewidth": 0,
              "ticks": ""
             }
            },
            "type": "scattermapbox"
           }
          ],
          "scatterpolar": [
           {
            "marker": {
             "colorbar": {
              "outlinewidth": 0,
              "ticks": ""
             }
            },
            "type": "scatterpolar"
           }
          ],
          "scatterpolargl": [
           {
            "marker": {
             "colorbar": {
              "outlinewidth": 0,
              "ticks": ""
             }
            },
            "type": "scatterpolargl"
           }
          ],
          "scatterternary": [
           {
            "marker": {
             "colorbar": {
              "outlinewidth": 0,
              "ticks": ""
             }
            },
            "type": "scatterternary"
           }
          ],
          "surface": [
           {
            "colorbar": {
             "outlinewidth": 0,
             "ticks": ""
            },
            "colorscale": [
             [
              0,
              "#0d0887"
             ],
             [
              0.1111111111111111,
              "#46039f"
             ],
             [
              0.2222222222222222,
              "#7201a8"
             ],
             [
              0.3333333333333333,
              "#9c179e"
             ],
             [
              0.4444444444444444,
              "#bd3786"
             ],
             [
              0.5555555555555556,
              "#d8576b"
             ],
             [
              0.6666666666666666,
              "#ed7953"
             ],
             [
              0.7777777777777778,
              "#fb9f3a"
             ],
             [
              0.8888888888888888,
              "#fdca26"
             ],
             [
              1,
              "#f0f921"
             ]
            ],
            "type": "surface"
           }
          ],
          "table": [
           {
            "cells": {
             "fill": {
              "color": "#EBF0F8"
             },
             "line": {
              "color": "white"
             }
            },
            "header": {
             "fill": {
              "color": "#C8D4E3"
             },
             "line": {
              "color": "white"
             }
            },
            "type": "table"
           }
          ]
         },
         "layout": {
          "annotationdefaults": {
           "arrowcolor": "#2a3f5f",
           "arrowhead": 0,
           "arrowwidth": 1
          },
          "colorscale": {
           "diverging": [
            [
             0,
             "#8e0152"
            ],
            [
             0.1,
             "#c51b7d"
            ],
            [
             0.2,
             "#de77ae"
            ],
            [
             0.3,
             "#f1b6da"
            ],
            [
             0.4,
             "#fde0ef"
            ],
            [
             0.5,
             "#f7f7f7"
            ],
            [
             0.6,
             "#e6f5d0"
            ],
            [
             0.7,
             "#b8e186"
            ],
            [
             0.8,
             "#7fbc41"
            ],
            [
             0.9,
             "#4d9221"
            ],
            [
             1,
             "#276419"
            ]
           ],
           "sequential": [
            [
             0,
             "#0d0887"
            ],
            [
             0.1111111111111111,
             "#46039f"
            ],
            [
             0.2222222222222222,
             "#7201a8"
            ],
            [
             0.3333333333333333,
             "#9c179e"
            ],
            [
             0.4444444444444444,
             "#bd3786"
            ],
            [
             0.5555555555555556,
             "#d8576b"
            ],
            [
             0.6666666666666666,
             "#ed7953"
            ],
            [
             0.7777777777777778,
             "#fb9f3a"
            ],
            [
             0.8888888888888888,
             "#fdca26"
            ],
            [
             1,
             "#f0f921"
            ]
           ],
           "sequentialminus": [
            [
             0,
             "#0d0887"
            ],
            [
             0.1111111111111111,
             "#46039f"
            ],
            [
             0.2222222222222222,
             "#7201a8"
            ],
            [
             0.3333333333333333,
             "#9c179e"
            ],
            [
             0.4444444444444444,
             "#bd3786"
            ],
            [
             0.5555555555555556,
             "#d8576b"
            ],
            [
             0.6666666666666666,
             "#ed7953"
            ],
            [
             0.7777777777777778,
             "#fb9f3a"
            ],
            [
             0.8888888888888888,
             "#fdca26"
            ],
            [
             1,
             "#f0f921"
            ]
           ]
          },
          "colorway": [
           "#636efa",
           "#EF553B",
           "#00cc96",
           "#ab63fa",
           "#FFA15A",
           "#19d3f3",
           "#FF6692",
           "#B6E880",
           "#FF97FF",
           "#FECB52"
          ],
          "font": {
           "color": "#2a3f5f"
          },
          "geo": {
           "bgcolor": "white",
           "lakecolor": "white",
           "landcolor": "#E5ECF6",
           "showlakes": true,
           "showland": true,
           "subunitcolor": "white"
          },
          "hoverlabel": {
           "align": "left"
          },
          "hovermode": "closest",
          "mapbox": {
           "style": "light"
          },
          "paper_bgcolor": "white",
          "plot_bgcolor": "#E5ECF6",
          "polar": {
           "angularaxis": {
            "gridcolor": "white",
            "linecolor": "white",
            "ticks": ""
           },
           "bgcolor": "#E5ECF6",
           "radialaxis": {
            "gridcolor": "white",
            "linecolor": "white",
            "ticks": ""
           }
          },
          "scene": {
           "xaxis": {
            "backgroundcolor": "#E5ECF6",
            "gridcolor": "white",
            "gridwidth": 2,
            "linecolor": "white",
            "showbackground": true,
            "ticks": "",
            "zerolinecolor": "white"
           },
           "yaxis": {
            "backgroundcolor": "#E5ECF6",
            "gridcolor": "white",
            "gridwidth": 2,
            "linecolor": "white",
            "showbackground": true,
            "ticks": "",
            "zerolinecolor": "white"
           },
           "zaxis": {
            "backgroundcolor": "#E5ECF6",
            "gridcolor": "white",
            "gridwidth": 2,
            "linecolor": "white",
            "showbackground": true,
            "ticks": "",
            "zerolinecolor": "white"
           }
          },
          "shapedefaults": {
           "line": {
            "color": "#2a3f5f"
           }
          },
          "ternary": {
           "aaxis": {
            "gridcolor": "white",
            "linecolor": "white",
            "ticks": ""
           },
           "baxis": {
            "gridcolor": "white",
            "linecolor": "white",
            "ticks": ""
           },
           "bgcolor": "#E5ECF6",
           "caxis": {
            "gridcolor": "white",
            "linecolor": "white",
            "ticks": ""
           }
          },
          "title": {
           "x": 0.05
          },
          "xaxis": {
           "automargin": true,
           "gridcolor": "white",
           "linecolor": "white",
           "ticks": "",
           "zerolinecolor": "white",
           "zerolinewidth": 2
          },
          "yaxis": {
           "automargin": true,
           "gridcolor": "white",
           "linecolor": "white",
           "ticks": "",
           "zerolinecolor": "white",
           "zerolinewidth": 2
          }
         }
        },
        "title": {
         "text": "Number of Reviews by Reviewer Type"
        },
        "xaxis": {
         "autorange": true,
         "range": [
          -0.5,
          1.5
         ],
         "title": {
          "text": "Reviewer Type"
         },
         "type": "category"
        },
        "yaxis": {
         "autorange": true,
         "range": [
          0,
          23.68315789473684
         ],
         "tickformat": "digit",
         "title": {
          "text": "Number of Reviews (Thousands)"
         },
         "type": "linear"
        }
       }
      },
      "image/png": "[encoded data removed]",
      "text/html": [
       "<div>\n",
       "        \n",
       "        \n",
       "            <div id=\"67221bfc-72c7-4424-898f-4e61df951bb4\" class=\"plotly-graph-div\" style=\"height:525px; width:100%;\"></div>\n",
       "            <script type=\"text/javascript\">\n",
       "                require([\"plotly\"], function(Plotly) {\n",
       "                    window.PLOTLYENV=window.PLOTLYENV || {};\n",
       "                    \n",
       "                if (document.getElementById(\"67221bfc-72c7-4424-898f-4e61df951bb4\")) {\n",
       "                    Plotly.newPlot(\n",
       "                        '67221bfc-72c7-4424-898f-4e61df951bb4',\n",
       "                        [{\"hovertext\": [\"79.0% of Reviews\", \"21.0% of Reviews\"], \"marker\": {\"color\": \"crimson\", \"line\": {\"color\": \"black\", \"width\": 1.5}}, \"opacity\": 0.8, \"type\": \"bar\", \"x\": [\"Owner\", \"Provider\"], \"y\": [22.499, 6.062]}],\n",
       "                        {\"template\": {\"data\": {\"bar\": [{\"error_x\": {\"color\": \"#2a3f5f\"}, \"error_y\": {\"color\": \"#2a3f5f\"}, \"marker\": {\"line\": {\"color\": \"#E5ECF6\", \"width\": 0.5}}, \"type\": \"bar\"}], \"barpolar\": [{\"marker\": {\"line\": {\"color\": \"#E5ECF6\", \"width\": 0.5}}, \"type\": \"barpolar\"}], \"carpet\": [{\"aaxis\": {\"endlinecolor\": \"#2a3f5f\", \"gridcolor\": \"white\", \"linecolor\": \"white\", \"minorgridcolor\": \"white\", \"startlinecolor\": \"#2a3f5f\"}, \"baxis\": {\"endlinecolor\": \"#2a3f5f\", \"gridcolor\": \"white\", \"linecolor\": \"white\", \"minorgridcolor\": \"white\", \"startlinecolor\": \"#2a3f5f\"}, \"type\": \"carpet\"}], \"choropleth\": [{\"colorbar\": {\"outlinewidth\": 0, \"ticks\": \"\"}, \"type\": \"choropleth\"}], \"contour\": [{\"colorbar\": {\"outlinewidth\": 0, \"ticks\": \"\"}, \"colorscale\": [[0.0, \"#0d0887\"], [0.1111111111111111, \"#46039f\"], [0.2222222222222222, \"#7201a8\"], [0.3333333333333333, \"#9c179e\"], [0.4444444444444444, \"#bd3786\"], [0.5555555555555556, \"#d8576b\"], [0.6666666666666666, \"#ed7953\"], [0.7777777777777778, \"#fb9f3a\"], [0.8888888888888888, \"#fdca26\"], [1.0, \"#f0f921\"]], \"type\": \"contour\"}], \"contourcarpet\": [{\"colorbar\": {\"outlinewidth\": 0, \"ticks\": \"\"}, \"type\": \"contourcarpet\"}], \"heatmap\": [{\"colorbar\": {\"outlinewidth\": 0, \"ticks\": \"\"}, \"colorscale\": [[0.0, \"#0d0887\"], [0.1111111111111111, \"#46039f\"], [0.2222222222222222, \"#7201a8\"], [0.3333333333333333, \"#9c179e\"], [0.4444444444444444, \"#bd3786\"], [0.5555555555555556, \"#d8576b\"], [0.6666666666666666, \"#ed7953\"], [0.7777777777777778, \"#fb9f3a\"], [0.8888888888888888, \"#fdca26\"], [1.0, \"#f0f921\"]], \"type\": \"heatmap\"}], \"heatmapgl\": [{\"colorbar\": {\"outlinewidth\": 0, \"ticks\": \"\"}, \"colorscale\": [[0.0, \"#0d0887\"], [0.1111111111111111, \"#46039f\"], [0.2222222222222222, \"#7201a8\"], [0.3333333333333333, \"#9c179e\"], [0.4444444444444444, \"#bd3786\"], [0.5555555555555556, \"#d8576b\"], [0.6666666666666666, \"#ed7953\"], [0.7777777777777778, \"#fb9f3a\"], [0.8888888888888888, \"#fdca26\"], [1.0, \"#f0f921\"]], \"type\": \"heatmapgl\"}], \"histogram\": [{\"marker\": {\"colorbar\": {\"outlinewidth\": 0, \"ticks\": \"\"}}, \"type\": \"histogram\"}], \"histogram2d\": [{\"colorbar\": {\"outlinewidth\": 0, \"ticks\": \"\"}, \"colorscale\": [[0.0, \"#0d0887\"], [0.1111111111111111, \"#46039f\"], [0.2222222222222222, \"#7201a8\"], [0.3333333333333333, \"#9c179e\"], [0.4444444444444444, \"#bd3786\"], [0.5555555555555556, \"#d8576b\"], [0.6666666666666666, \"#ed7953\"], [0.7777777777777778, \"#fb9f3a\"], [0.8888888888888888, \"#fdca26\"], [1.0, \"#f0f921\"]], \"type\": \"histogram2d\"}], \"histogram2dcontour\": [{\"colorbar\": {\"outlinewidth\": 0, \"ticks\": \"\"}, \"colorscale\": [[0.0, \"#0d0887\"], [0.1111111111111111, \"#46039f\"], [0.2222222222222222, \"#7201a8\"], [0.3333333333333333, \"#9c179e\"], [0.4444444444444444, \"#bd3786\"], [0.5555555555555556, \"#d8576b\"], [0.6666666666666666, \"#ed7953\"], [0.7777777777777778, \"#fb9f3a\"], [0.8888888888888888, \"#fdca26\"], [1.0, \"#f0f921\"]], \"type\": \"histogram2dcontour\"}], \"mesh3d\": [{\"colorbar\": {\"outlinewidth\": 0, \"ticks\": \"\"}, \"type\": \"mesh3d\"}], \"parcoords\": [{\"line\": {\"colorbar\": {\"outlinewidth\": 0, \"ticks\": \"\"}}, \"type\": \"parcoords\"}], \"scatter\": [{\"marker\": {\"colorbar\": {\"outlinewidth\": 0, \"ticks\": \"\"}}, \"type\": \"scatter\"}], \"scatter3d\": [{\"line\": {\"colorbar\": {\"outlinewidth\": 0, \"ticks\": \"\"}}, \"marker\": {\"colorbar\": {\"outlinewidth\": 0, \"ticks\": \"\"}}, \"type\": \"scatter3d\"}], \"scattercarpet\": [{\"marker\": {\"colorbar\": {\"outlinewidth\": 0, \"ticks\": \"\"}}, \"type\": \"scattercarpet\"}], \"scattergeo\": [{\"marker\": {\"colorbar\": {\"outlinewidth\": 0, \"ticks\": \"\"}}, \"type\": \"scattergeo\"}], \"scattergl\": [{\"marker\": {\"colorbar\": {\"outlinewidth\": 0, \"ticks\": \"\"}}, \"type\": \"scattergl\"}], \"scattermapbox\": [{\"marker\": {\"colorbar\": {\"outlinewidth\": 0, \"ticks\": \"\"}}, \"type\": \"scattermapbox\"}], \"scatterpolar\": [{\"marker\": {\"colorbar\": {\"outlinewidth\": 0, \"ticks\": \"\"}}, \"type\": \"scatterpolar\"}], \"scatterpolargl\": [{\"marker\": {\"colorbar\": {\"outlinewidth\": 0, \"ticks\": \"\"}}, \"type\": \"scatterpolargl\"}], \"scatterternary\": [{\"marker\": {\"colorbar\": {\"outlinewidth\": 0, \"ticks\": \"\"}}, \"type\": \"scatterternary\"}], \"surface\": [{\"colorbar\": {\"outlinewidth\": 0, \"ticks\": \"\"}, \"colorscale\": [[0.0, \"#0d0887\"], [0.1111111111111111, \"#46039f\"], [0.2222222222222222, \"#7201a8\"], [0.3333333333333333, \"#9c179e\"], [0.4444444444444444, \"#bd3786\"], [0.5555555555555556, \"#d8576b\"], [0.6666666666666666, \"#ed7953\"], [0.7777777777777778, \"#fb9f3a\"], [0.8888888888888888, \"#fdca26\"], [1.0, \"#f0f921\"]], \"type\": \"surface\"}], \"table\": [{\"cells\": {\"fill\": {\"color\": \"#EBF0F8\"}, \"line\": {\"color\": \"white\"}}, \"header\": {\"fill\": {\"color\": \"#C8D4E3\"}, \"line\": {\"color\": \"white\"}}, \"type\": \"table\"}]}, \"layout\": {\"annotationdefaults\": {\"arrowcolor\": \"#2a3f5f\", \"arrowhead\": 0, \"arrowwidth\": 1}, \"colorscale\": {\"diverging\": [[0, \"#8e0152\"], [0.1, \"#c51b7d\"], [0.2, \"#de77ae\"], [0.3, \"#f1b6da\"], [0.4, \"#fde0ef\"], [0.5, \"#f7f7f7\"], [0.6, \"#e6f5d0\"], [0.7, \"#b8e186\"], [0.8, \"#7fbc41\"], [0.9, \"#4d9221\"], [1, \"#276419\"]], \"sequential\": [[0.0, \"#0d0887\"], [0.1111111111111111, \"#46039f\"], [0.2222222222222222, \"#7201a8\"], [0.3333333333333333, \"#9c179e\"], [0.4444444444444444, \"#bd3786\"], [0.5555555555555556, \"#d8576b\"], [0.6666666666666666, \"#ed7953\"], [0.7777777777777778, \"#fb9f3a\"], [0.8888888888888888, \"#fdca26\"], [1.0, \"#f0f921\"]], \"sequentialminus\": [[0.0, \"#0d0887\"], [0.1111111111111111, \"#46039f\"], [0.2222222222222222, \"#7201a8\"], [0.3333333333333333, \"#9c179e\"], [0.4444444444444444, \"#bd3786\"], [0.5555555555555556, \"#d8576b\"], [0.6666666666666666, \"#ed7953\"], [0.7777777777777778, \"#fb9f3a\"], [0.8888888888888888, \"#fdca26\"], [1.0, \"#f0f921\"]]}, \"colorway\": [\"#636efa\", \"#EF553B\", \"#00cc96\", \"#ab63fa\", \"#FFA15A\", \"#19d3f3\", \"#FF6692\", \"#B6E880\", \"#FF97FF\", \"#FECB52\"], \"font\": {\"color\": \"#2a3f5f\"}, \"geo\": {\"bgcolor\": \"white\", \"lakecolor\": \"white\", \"landcolor\": \"#E5ECF6\", \"showlakes\": true, \"showland\": true, \"subunitcolor\": \"white\"}, \"hoverlabel\": {\"align\": \"left\"}, \"hovermode\": \"closest\", \"mapbox\": {\"style\": \"light\"}, \"paper_bgcolor\": \"white\", \"plot_bgcolor\": \"#E5ECF6\", \"polar\": {\"angularaxis\": {\"gridcolor\": \"white\", \"linecolor\": \"white\", \"ticks\": \"\"}, \"bgcolor\": \"#E5ECF6\", \"radialaxis\": {\"gridcolor\": \"white\", \"linecolor\": \"white\", \"ticks\": \"\"}}, \"scene\": {\"xaxis\": {\"backgroundcolor\": \"#E5ECF6\", \"gridcolor\": \"white\", \"gridwidth\": 2, \"linecolor\": \"white\", \"showbackground\": true, \"ticks\": \"\", \"zerolinecolor\": \"white\"}, \"yaxis\": {\"backgroundcolor\": \"#E5ECF6\", \"gridcolor\": \"white\", \"gridwidth\": 2, \"linecolor\": \"white\", \"showbackground\": true, \"ticks\": \"\", \"zerolinecolor\": \"white\"}, \"zaxis\": {\"backgroundcolor\": \"#E5ECF6\", \"gridcolor\": \"white\", \"gridwidth\": 2, \"linecolor\": \"white\", \"showbackground\": true, \"ticks\": \"\", \"zerolinecolor\": \"white\"}}, \"shapedefaults\": {\"line\": {\"color\": \"#2a3f5f\"}}, \"ternary\": {\"aaxis\": {\"gridcolor\": \"white\", \"linecolor\": \"white\", \"ticks\": \"\"}, \"baxis\": {\"gridcolor\": \"white\", \"linecolor\": \"white\", \"ticks\": \"\"}, \"bgcolor\": \"#E5ECF6\", \"caxis\": {\"gridcolor\": \"white\", \"linecolor\": \"white\", \"ticks\": \"\"}}, \"title\": {\"x\": 0.05}, \"xaxis\": {\"automargin\": true, \"gridcolor\": \"white\", \"linecolor\": \"white\", \"ticks\": \"\", \"zerolinecolor\": \"white\", \"zerolinewidth\": 2}, \"yaxis\": {\"automargin\": true, \"gridcolor\": \"white\", \"linecolor\": \"white\", \"ticks\": \"\", \"zerolinecolor\": \"white\", \"zerolinewidth\": 2}}}, \"title\": {\"text\": \"Number of Reviews by Reviewer Type\"}, \"xaxis\": {\"title\": {\"text\": \"Reviewer Type\"}}, \"yaxis\": {\"tickformat\": \"digit\", \"title\": {\"text\": \"Number of Reviews (Thousands)\"}}},\n",
       "                        {\"responsive\": true}\n",
       "                    ).then(function(){\n",
       "                            \n",
       "var gd = document.getElementById('67221bfc-72c7-4424-898f-4e61df951bb4');\n",
       "var x = new MutationObserver(function (mutations, observer) {{\n",
       "        var display = window.getComputedStyle(gd).display;\n",
       "        if (!display || display === 'none') {{\n",
       "            console.log([gd, 'removed!']);\n",
       "            Plotly.purge(gd);\n",
       "            observer.disconnect();\n",
       "        }}\n",
       "}});\n",
       "\n",
       "// Listen for the removal of the full notebook cells\n",
       "var notebookContainer = gd.closest('#notebook-container');\n",
       "if (notebookContainer) {{\n",
       "    x.observe(notebookContainer, {childList: true});\n",
       "}}\n",
       "\n",
       "// Listen for the clearing of the current output cell\n",
       "var outputEl = gd.closest('.output');\n",
       "if (outputEl) {{\n",
       "    x.observe(outputEl, {childList: true});\n",
       "}}\n",
       "\n",
       "                        })\n",
       "                };\n",
       "                });\n",
       "            </script>\n",
       "        </div>"
      ]
     },
     "metadata": {},
     "output_type": "display_data"
    }
   ],
   "source": [
    "group_review_data = df_reviews.groupby('reviewer_type', as_index = False).agg(['count', 'mean'])['stars']['count']\n",
    "\n",
    "x = [user_type.capitalize() for user_type in group_review_data.index]\n",
    "y = group_review_data.values/1000\n",
    "\n",
    "# Use the hovertext kw argument for hover text\n",
    "fig = go.Figure(data=[go.Bar(x=x, y=y,\n",
    "            hovertext=[f'{100*round(y[0]/sum(y),2)}% of Reviews', f'{100*round(y[1]/sum(y),2)}% of Reviews'])])\n",
    "# Customize aspect\n",
    "fig.update_traces(marker_color='crimson', marker_line_color='black',\n",
    "                  marker_line_width=1.5, opacity=.8)\n",
    "fig.update_layout(title_text='Number of Reviews by Reviewer Type', xaxis_title='Reviewer Type', yaxis_title='Number of Reviews (Thousands)',\n",
    "                  yaxis_tickformat = 'digit')\n",
    "fig.show()"
   ]
  },
  {
   "cell_type": "markdown",
   "metadata": {},
   "source": [
    "<a id='3'></a>\n",
    "## III. Recent Daily Booking Rate\n",
    "\n",
    "The snapshot of this database was taken on 2018-08-02 at midnight and only contains data reflecting events prior to that date. A junior analyst is investigating daily booking rate during the days prior to the snapshot and is concerned about an apparent downward trend. You are tasked with helping them out.\n",
    "1. First, let's reproduce their results. They tell you that daily booking rate is defined to be the percentage of conversations created each day that eventually book. What is the daily booking rate for each of the 90 days prior to the snapshot? Is there a downward trend?\n",
    "\n",
    "2. Can you narrate a reason why this trend exists? Is there a reason to be concerned?"
   ]
  },
  {
   "cell_type": "code",
   "execution_count": 82,
   "metadata": {},
   "outputs": [
    {
     "data": {
      "text/html": [
       "<div>\n",
       "<style scoped>\n",
       "    .dataframe tbody tr th:only-of-type {\n",
       "        vertical-align: middle;\n",
       "    }\n",
       "\n",
       "    .dataframe tbody tr th {\n",
       "        vertical-align: top;\n",
       "    }\n",
       "\n",
       "    .dataframe thead th {\n",
       "        text-align: right;\n",
       "    }\n",
       "</style>\n",
       "<table border=\"1\" class=\"dataframe\">\n",
       "  <thead>\n",
       "    <tr style=\"text-align: right;\">\n",
       "      <th></th>\n",
       "      <th>added</th>\n",
       "      <th>booked_at</th>\n",
       "    </tr>\n",
       "  </thead>\n",
       "  <tbody>\n",
       "    <tr>\n",
       "      <td>0</td>\n",
       "      <td>2018-07-16</td>\n",
       "      <td>NaT</td>\n",
       "    </tr>\n",
       "    <tr>\n",
       "      <td>1</td>\n",
       "      <td>2018-08-01</td>\n",
       "      <td>NaT</td>\n",
       "    </tr>\n",
       "    <tr>\n",
       "      <td>2</td>\n",
       "      <td>2018-06-05</td>\n",
       "      <td>NaT</td>\n",
       "    </tr>\n",
       "    <tr>\n",
       "      <td>3</td>\n",
       "      <td>2018-07-02</td>\n",
       "      <td>NaT</td>\n",
       "    </tr>\n",
       "    <tr>\n",
       "      <td>4</td>\n",
       "      <td>2018-06-21</td>\n",
       "      <td>NaT</td>\n",
       "    </tr>\n",
       "  </tbody>\n",
       "</table>\n",
       "</div>"
      ],
      "text/plain": [
       "       added booked_at\n",
       "0 2018-07-16       NaT\n",
       "1 2018-08-01       NaT\n",
       "2 2018-06-05       NaT\n",
       "3 2018-07-02       NaT\n",
       "4 2018-06-21       NaT"
      ]
     },
     "execution_count": 82,
     "metadata": {},
     "output_type": "execute_result"
    }
   ],
   "source": [
    "df_temp = df_conversations.loc[:, ['added', 'booked_at']]\n",
    "df_temp.head()"
   ]
  },
  {
   "cell_type": "code",
   "execution_count": 83,
   "metadata": {},
   "outputs": [
    {
     "data": {
      "text/html": [
       "<div>\n",
       "<style scoped>\n",
       "    .dataframe tbody tr th:only-of-type {\n",
       "        vertical-align: middle;\n",
       "    }\n",
       "\n",
       "    .dataframe tbody tr th {\n",
       "        vertical-align: top;\n",
       "    }\n",
       "\n",
       "    .dataframe thead th {\n",
       "        text-align: right;\n",
       "    }\n",
       "</style>\n",
       "<table border=\"1\" class=\"dataframe\">\n",
       "  <thead>\n",
       "    <tr style=\"text-align: right;\">\n",
       "      <th></th>\n",
       "      <th>added</th>\n",
       "      <th>booked_at</th>\n",
       "      <th>was_booked</th>\n",
       "    </tr>\n",
       "  </thead>\n",
       "  <tbody>\n",
       "    <tr>\n",
       "      <td>0</td>\n",
       "      <td>2018-07-16</td>\n",
       "      <td>NaT</td>\n",
       "      <td>0</td>\n",
       "    </tr>\n",
       "    <tr>\n",
       "      <td>1</td>\n",
       "      <td>2018-08-01</td>\n",
       "      <td>NaT</td>\n",
       "      <td>0</td>\n",
       "    </tr>\n",
       "    <tr>\n",
       "      <td>2</td>\n",
       "      <td>2018-06-05</td>\n",
       "      <td>NaT</td>\n",
       "      <td>0</td>\n",
       "    </tr>\n",
       "    <tr>\n",
       "      <td>3</td>\n",
       "      <td>2018-07-02</td>\n",
       "      <td>NaT</td>\n",
       "      <td>0</td>\n",
       "    </tr>\n",
       "    <tr>\n",
       "      <td>4</td>\n",
       "      <td>2018-06-21</td>\n",
       "      <td>NaT</td>\n",
       "      <td>0</td>\n",
       "    </tr>\n",
       "  </tbody>\n",
       "</table>\n",
       "</div>"
      ],
      "text/plain": [
       "       added booked_at  was_booked\n",
       "0 2018-07-16       NaT           0\n",
       "1 2018-08-01       NaT           0\n",
       "2 2018-06-05       NaT           0\n",
       "3 2018-07-02       NaT           0\n",
       "4 2018-06-21       NaT           0"
      ]
     },
     "execution_count": 83,
     "metadata": {},
     "output_type": "execute_result"
    }
   ],
   "source": [
    "df_temp.loc[:, 'was_booked'] = df_temp['booked_at'].notnull().astype(int)\n",
    "df_temp.head(5)"
   ]
  },
  {
   "cell_type": "code",
   "execution_count": 84,
   "metadata": {},
   "outputs": [
    {
     "data": {
      "text/html": [
       "<div>\n",
       "<style scoped>\n",
       "    .dataframe tbody tr th:only-of-type {\n",
       "        vertical-align: middle;\n",
       "    }\n",
       "\n",
       "    .dataframe tbody tr th {\n",
       "        vertical-align: top;\n",
       "    }\n",
       "\n",
       "    .dataframe thead th {\n",
       "        text-align: right;\n",
       "    }\n",
       "</style>\n",
       "<table border=\"1\" class=\"dataframe\">\n",
       "  <thead>\n",
       "    <tr style=\"text-align: right;\">\n",
       "      <th></th>\n",
       "      <th>added</th>\n",
       "      <th>booked_at</th>\n",
       "      <th>was_booked</th>\n",
       "    </tr>\n",
       "  </thead>\n",
       "  <tbody>\n",
       "    <tr>\n",
       "      <td>0</td>\n",
       "      <td>2018-07-16</td>\n",
       "      <td>NaT</td>\n",
       "      <td>0</td>\n",
       "    </tr>\n",
       "    <tr>\n",
       "      <td>1</td>\n",
       "      <td>2018-08-01</td>\n",
       "      <td>NaT</td>\n",
       "      <td>0</td>\n",
       "    </tr>\n",
       "    <tr>\n",
       "      <td>2</td>\n",
       "      <td>2018-06-05</td>\n",
       "      <td>NaT</td>\n",
       "      <td>0</td>\n",
       "    </tr>\n",
       "    <tr>\n",
       "      <td>3</td>\n",
       "      <td>2018-07-02</td>\n",
       "      <td>NaT</td>\n",
       "      <td>0</td>\n",
       "    </tr>\n",
       "    <tr>\n",
       "      <td>4</td>\n",
       "      <td>2018-06-21</td>\n",
       "      <td>NaT</td>\n",
       "      <td>0</td>\n",
       "    </tr>\n",
       "  </tbody>\n",
       "</table>\n",
       "</div>"
      ],
      "text/plain": [
       "       added booked_at  was_booked\n",
       "0 2018-07-16       NaT           0\n",
       "1 2018-08-01       NaT           0\n",
       "2 2018-06-05       NaT           0\n",
       "3 2018-07-02       NaT           0\n",
       "4 2018-06-21       NaT           0"
      ]
     },
     "execution_count": 84,
     "metadata": {},
     "output_type": "execute_result"
    }
   ],
   "source": [
    "# We only need data from the previous 90 days.\n",
    "# I'm using a static cutoff date for this problem but it could be made dynamic to update automatically when new data is available.\n",
    "cutoff_date = pd.Timestamp(year=2018, month=5, day=3)\n",
    "mask = df_temp['added'] > cutoff_date\n",
    "df_temp = df_temp.loc[mask, :]\n",
    "df_temp.head()"
   ]
  },
  {
   "cell_type": "code",
   "execution_count": 85,
   "metadata": {},
   "outputs": [
    {
     "data": {
      "text/html": [
       "<div>\n",
       "<style scoped>\n",
       "    .dataframe tbody tr th:only-of-type {\n",
       "        vertical-align: middle;\n",
       "    }\n",
       "\n",
       "    .dataframe tbody tr th {\n",
       "        vertical-align: top;\n",
       "    }\n",
       "\n",
       "    .dataframe thead tr th {\n",
       "        text-align: left;\n",
       "    }\n",
       "\n",
       "    .dataframe thead tr:last-of-type th {\n",
       "        text-align: right;\n",
       "    }\n",
       "</style>\n",
       "<table border=\"1\" class=\"dataframe\">\n",
       "  <thead>\n",
       "    <tr>\n",
       "      <th></th>\n",
       "      <th>was_booked</th>\n",
       "    </tr>\n",
       "    <tr>\n",
       "      <th></th>\n",
       "      <th>mean</th>\n",
       "    </tr>\n",
       "    <tr>\n",
       "      <th>added</th>\n",
       "      <th></th>\n",
       "    </tr>\n",
       "  </thead>\n",
       "  <tbody>\n",
       "    <tr>\n",
       "      <td>2018-05-04</td>\n",
       "      <td>44.700461</td>\n",
       "    </tr>\n",
       "    <tr>\n",
       "      <td>2018-05-05</td>\n",
       "      <td>44.690265</td>\n",
       "    </tr>\n",
       "    <tr>\n",
       "      <td>2018-05-06</td>\n",
       "      <td>44.782609</td>\n",
       "    </tr>\n",
       "    <tr>\n",
       "      <td>2018-05-07</td>\n",
       "      <td>48.543689</td>\n",
       "    </tr>\n",
       "    <tr>\n",
       "      <td>2018-05-08</td>\n",
       "      <td>40.707965</td>\n",
       "    </tr>\n",
       "  </tbody>\n",
       "</table>\n",
       "</div>"
      ],
      "text/plain": [
       "           was_booked\n",
       "                 mean\n",
       "added                \n",
       "2018-05-04  44.700461\n",
       "2018-05-05  44.690265\n",
       "2018-05-06  44.782609\n",
       "2018-05-07  48.543689\n",
       "2018-05-08  40.707965"
      ]
     },
     "execution_count": 85,
     "metadata": {},
     "output_type": "execute_result"
    }
   ],
   "source": [
    "book_rate = df_temp[['added', 'was_booked']].groupby(['added'], as_index = False).agg(['mean']) * 100\n",
    "book_rate.head()"
   ]
  },
  {
   "cell_type": "code",
   "execution_count": 131,
   "metadata": {},
   "outputs": [
    {
     "data": {
      "text/html": [
       "<div>\n",
       "<style scoped>\n",
       "    .dataframe tbody tr th:only-of-type {\n",
       "        vertical-align: middle;\n",
       "    }\n",
       "\n",
       "    .dataframe tbody tr th {\n",
       "        vertical-align: top;\n",
       "    }\n",
       "\n",
       "    .dataframe thead th {\n",
       "        text-align: right;\n",
       "    }\n",
       "</style>\n",
       "<table border=\"1\" class=\"dataframe\">\n",
       "  <thead>\n",
       "    <tr style=\"text-align: right;\">\n",
       "      <th></th>\n",
       "      <th>date</th>\n",
       "      <th>rate</th>\n",
       "    </tr>\n",
       "  </thead>\n",
       "  <tbody>\n",
       "    <tr>\n",
       "      <td>0</td>\n",
       "      <td>2018-05-04</td>\n",
       "      <td>44.700461</td>\n",
       "    </tr>\n",
       "    <tr>\n",
       "      <td>1</td>\n",
       "      <td>2018-05-05</td>\n",
       "      <td>44.690265</td>\n",
       "    </tr>\n",
       "    <tr>\n",
       "      <td>2</td>\n",
       "      <td>2018-05-06</td>\n",
       "      <td>44.782609</td>\n",
       "    </tr>\n",
       "    <tr>\n",
       "      <td>3</td>\n",
       "      <td>2018-05-07</td>\n",
       "      <td>48.543689</td>\n",
       "    </tr>\n",
       "    <tr>\n",
       "      <td>4</td>\n",
       "      <td>2018-05-08</td>\n",
       "      <td>40.707965</td>\n",
       "    </tr>\n",
       "  </tbody>\n",
       "</table>\n",
       "</div>"
      ],
      "text/plain": [
       "        date       rate\n",
       "0 2018-05-04  44.700461\n",
       "1 2018-05-05  44.690265\n",
       "2 2018-05-06  44.782609\n",
       "3 2018-05-07  48.543689\n",
       "4 2018-05-08  40.707965"
      ]
     },
     "execution_count": 131,
     "metadata": {},
     "output_type": "execute_result"
    }
   ],
   "source": [
    "df_book_rate = book_rate['was_booked'].reset_index()\n",
    "df_book_rate.rename(columns={'added':'date', 'mean':'rate'}, inplace=True)\n",
    "df_book_rate.head()"
   ]
  },
  {
   "cell_type": "code",
   "execution_count": 133,
   "metadata": {},
   "outputs": [
    {
     "data": {
      "application/vnd.plotly.v1+json": {
       "config": {
        "plotlyServerURL": "https://plot.ly"
       },
       "data": [
        {
         "hoverlabel": {
          "namelength": 0
         },
         "hovertemplate": "date=%{x}<br>rate=%{y}",
         "legendgroup": "",
         "line": {
          "color": "#636efa",
          "dash": "solid"
         },
         "mode": "lines",
         "name": "",
         "showlegend": false,
         "type": "scatter",
         "x": [
          "2018-05-04T00:00:00",
          "2018-05-05T00:00:00",
          "2018-05-06T00:00:00",
          "2018-05-07T00:00:00",
          "2018-05-08T00:00:00",
          "2018-05-09T00:00:00",
          "2018-05-10T00:00:00",
          "2018-05-11T00:00:00",
          "2018-05-12T00:00:00",
          "2018-05-13T00:00:00",
          "2018-05-14T00:00:00",
          "2018-05-15T00:00:00",
          "2018-05-16T00:00:00",
          "2018-05-17T00:00:00",
          "2018-05-18T00:00:00",
          "2018-05-19T00:00:00",
          "2018-05-20T00:00:00",
          "2018-05-21T00:00:00",
          "2018-05-22T00:00:00",
          "2018-05-23T00:00:00",
          "2018-05-24T00:00:00",
          "2018-05-25T00:00:00",
          "2018-05-26T00:00:00",
          "2018-05-27T00:00:00",
          "2018-05-28T00:00:00",
          "2018-05-29T00:00:00",
          "2018-05-30T00:00:00",
          "2018-05-31T00:00:00",
          "2018-06-01T00:00:00",
          "2018-06-02T00:00:00",
          "2018-06-03T00:00:00",
          "2018-06-04T00:00:00",
          "2018-06-05T00:00:00",
          "2018-06-06T00:00:00",
          "2018-06-07T00:00:00",
          "2018-06-08T00:00:00",
          "2018-06-09T00:00:00",
          "2018-06-10T00:00:00",
          "2018-06-11T00:00:00",
          "2018-06-12T00:00:00",
          "2018-06-13T00:00:00",
          "2018-06-14T00:00:00",
          "2018-06-15T00:00:00",
          "2018-06-16T00:00:00",
          "2018-06-17T00:00:00",
          "2018-06-18T00:00:00",
          "2018-06-19T00:00:00",
          "2018-06-20T00:00:00",
          "2018-06-21T00:00:00",
          "2018-06-22T00:00:00",
          "2018-06-23T00:00:00",
          "2018-06-24T00:00:00",
          "2018-06-25T00:00:00",
          "2018-06-26T00:00:00",
          "2018-06-27T00:00:00",
          "2018-06-28T00:00:00",
          "2018-06-29T00:00:00",
          "2018-06-30T00:00:00",
          "2018-07-01T00:00:00",
          "2018-07-02T00:00:00",
          "2018-07-03T00:00:00",
          "2018-07-04T00:00:00",
          "2018-07-05T00:00:00",
          "2018-07-06T00:00:00",
          "2018-07-07T00:00:00",
          "2018-07-08T00:00:00",
          "2018-07-09T00:00:00",
          "2018-07-10T00:00:00",
          "2018-07-11T00:00:00",
          "2018-07-12T00:00:00",
          "2018-07-13T00:00:00",
          "2018-07-14T00:00:00",
          "2018-07-15T00:00:00",
          "2018-07-16T00:00:00",
          "2018-07-17T00:00:00",
          "2018-07-18T00:00:00",
          "2018-07-19T00:00:00",
          "2018-07-20T00:00:00",
          "2018-07-21T00:00:00",
          "2018-07-22T00:00:00",
          "2018-07-23T00:00:00",
          "2018-07-24T00:00:00",
          "2018-07-25T00:00:00",
          "2018-07-26T00:00:00",
          "2018-07-27T00:00:00",
          "2018-07-28T00:00:00",
          "2018-07-29T00:00:00",
          "2018-07-30T00:00:00",
          "2018-07-31T00:00:00",
          "2018-08-01T00:00:00"
         ],
         "xaxis": "x",
         "y": [
          44.70046082949309,
          44.690265486725664,
          44.78260869565218,
          48.54368932038835,
          40.707964601769916,
          38.64734299516908,
          43.21608040201005,
          44.97607655502392,
          38.35616438356164,
          47.0873786407767,
          43.54066985645933,
          43.111111111111114,
          40.56603773584906,
          50,
          43.81443298969072,
          44.339622641509436,
          44.97607655502392,
          41.78403755868544,
          45.77777777777778,
          37.65182186234818,
          51.89393939393939,
          44.44444444444444,
          46.91943127962085,
          45.77777777777778,
          41.66666666666667,
          50,
          41.338582677165356,
          39.768339768339764,
          44.10480349344978,
          44.03669724770643,
          44.13145539906103,
          45.45454545454545,
          46.288209606986904,
          47.674418604651166,
          40.36697247706422,
          38.91050583657588,
          41.70040485829959,
          51.181102362204726,
          41.96078431372549,
          47.67932489451477,
          43.7007874015748,
          46.125461254612546,
          39.41908713692946,
          42.803030303030305,
          42.21311475409836,
          42.971887550200805,
          43.62139917695473,
          41.08527131782946,
          41.43426294820717,
          47.107438016528924,
          43.88185654008439,
          43.388429752066116,
          38.90909090909091,
          39.33054393305439,
          42.29390681003584,
          44.074074074074076,
          43.02325581395349,
          45,
          42.42424242424242,
          42.80442804428044,
          47.89272030651341,
          46.875,
          43.84615384615385,
          42.69662921348314,
          44.31372549019608,
          46.101694915254235,
          48.421052631578945,
          41.544117647058826,
          39.27272727272727,
          38.429752066115704,
          48.43205574912892,
          41.54929577464789,
          39.568345323741006,
          49.29078014184397,
          44.554455445544555,
          40.3448275862069,
          44.765342960288805,
          44.71830985915493,
          48.33948339483395,
          47.58620689655172,
          49.8220640569395,
          44.98141263940521,
          46.04810996563574,
          39.57597173144876,
          43.50877192982456,
          38.064516129032256,
          31.086142322097377,
          18.75,
          12.418300653594772,
          4.929577464788732
         ],
         "yaxis": "y"
        }
       ],
       "layout": {
        "autosize": true,
        "legend": {
         "tracegroupgap": 0
        },
        "template": {
         "data": {
          "bar": [
           {
            "error_x": {
             "color": "#2a3f5f"
            },
            "error_y": {
             "color": "#2a3f5f"
            },
            "marker": {
             "line": {
              "color": "#E5ECF6",
              "width": 0.5
             }
            },
            "type": "bar"
           }
          ],
          "barpolar": [
           {
            "marker": {
             "line": {
              "color": "#E5ECF6",
              "width": 0.5
             }
            },
            "type": "barpolar"
           }
          ],
          "carpet": [
           {
            "aaxis": {
             "endlinecolor": "#2a3f5f",
             "gridcolor": "white",
             "linecolor": "white",
             "minorgridcolor": "white",
             "startlinecolor": "#2a3f5f"
            },
            "baxis": {
             "endlinecolor": "#2a3f5f",
             "gridcolor": "white",
             "linecolor": "white",
             "minorgridcolor": "white",
             "startlinecolor": "#2a3f5f"
            },
            "type": "carpet"
           }
          ],
          "choropleth": [
           {
            "colorbar": {
             "outlinewidth": 0,
             "ticks": ""
            },
            "type": "choropleth"
           }
          ],
          "contour": [
           {
            "colorbar": {
             "outlinewidth": 0,
             "ticks": ""
            },
            "colorscale": [
             [
              0,
              "#0d0887"
             ],
             [
              0.1111111111111111,
              "#46039f"
             ],
             [
              0.2222222222222222,
              "#7201a8"
             ],
             [
              0.3333333333333333,
              "#9c179e"
             ],
             [
              0.4444444444444444,
              "#bd3786"
             ],
             [
              0.5555555555555556,
              "#d8576b"
             ],
             [
              0.6666666666666666,
              "#ed7953"
             ],
             [
              0.7777777777777778,
              "#fb9f3a"
             ],
             [
              0.8888888888888888,
              "#fdca26"
             ],
             [
              1,
              "#f0f921"
             ]
            ],
            "type": "contour"
           }
          ],
          "contourcarpet": [
           {
            "colorbar": {
             "outlinewidth": 0,
             "ticks": ""
            },
            "type": "contourcarpet"
           }
          ],
          "heatmap": [
           {
            "colorbar": {
             "outlinewidth": 0,
             "ticks": ""
            },
            "colorscale": [
             [
              0,
              "#0d0887"
             ],
             [
              0.1111111111111111,
              "#46039f"
             ],
             [
              0.2222222222222222,
              "#7201a8"
             ],
             [
              0.3333333333333333,
              "#9c179e"
             ],
             [
              0.4444444444444444,
              "#bd3786"
             ],
             [
              0.5555555555555556,
              "#d8576b"
             ],
             [
              0.6666666666666666,
              "#ed7953"
             ],
             [
              0.7777777777777778,
              "#fb9f3a"
             ],
             [
              0.8888888888888888,
              "#fdca26"
             ],
             [
              1,
              "#f0f921"
             ]
            ],
            "type": "heatmap"
           }
          ],
          "heatmapgl": [
           {
            "colorbar": {
             "outlinewidth": 0,
             "ticks": ""
            },
            "colorscale": [
             [
              0,
              "#0d0887"
             ],
             [
              0.1111111111111111,
              "#46039f"
             ],
             [
              0.2222222222222222,
              "#7201a8"
             ],
             [
              0.3333333333333333,
              "#9c179e"
             ],
             [
              0.4444444444444444,
              "#bd3786"
             ],
             [
              0.5555555555555556,
              "#d8576b"
             ],
             [
              0.6666666666666666,
              "#ed7953"
             ],
             [
              0.7777777777777778,
              "#fb9f3a"
             ],
             [
              0.8888888888888888,
              "#fdca26"
             ],
             [
              1,
              "#f0f921"
             ]
            ],
            "type": "heatmapgl"
           }
          ],
          "histogram": [
           {
            "marker": {
             "colorbar": {
              "outlinewidth": 0,
              "ticks": ""
             }
            },
            "type": "histogram"
           }
          ],
          "histogram2d": [
           {
            "colorbar": {
             "outlinewidth": 0,
             "ticks": ""
            },
            "colorscale": [
             [
              0,
              "#0d0887"
             ],
             [
              0.1111111111111111,
              "#46039f"
             ],
             [
              0.2222222222222222,
              "#7201a8"
             ],
             [
              0.3333333333333333,
              "#9c179e"
             ],
             [
              0.4444444444444444,
              "#bd3786"
             ],
             [
              0.5555555555555556,
              "#d8576b"
             ],
             [
              0.6666666666666666,
              "#ed7953"
             ],
             [
              0.7777777777777778,
              "#fb9f3a"
             ],
             [
              0.8888888888888888,
              "#fdca26"
             ],
             [
              1,
              "#f0f921"
             ]
            ],
            "type": "histogram2d"
           }
          ],
          "histogram2dcontour": [
           {
            "colorbar": {
             "outlinewidth": 0,
             "ticks": ""
            },
            "colorscale": [
             [
              0,
              "#0d0887"
             ],
             [
              0.1111111111111111,
              "#46039f"
             ],
             [
              0.2222222222222222,
              "#7201a8"
             ],
             [
              0.3333333333333333,
              "#9c179e"
             ],
             [
              0.4444444444444444,
              "#bd3786"
             ],
             [
              0.5555555555555556,
              "#d8576b"
             ],
             [
              0.6666666666666666,
              "#ed7953"
             ],
             [
              0.7777777777777778,
              "#fb9f3a"
             ],
             [
              0.8888888888888888,
              "#fdca26"
             ],
             [
              1,
              "#f0f921"
             ]
            ],
            "type": "histogram2dcontour"
           }
          ],
          "mesh3d": [
           {
            "colorbar": {
             "outlinewidth": 0,
             "ticks": ""
            },
            "type": "mesh3d"
           }
          ],
          "parcoords": [
           {
            "line": {
             "colorbar": {
              "outlinewidth": 0,
              "ticks": ""
             }
            },
            "type": "parcoords"
           }
          ],
          "scatter": [
           {
            "marker": {
             "colorbar": {
              "outlinewidth": 0,
              "ticks": ""
             }
            },
            "type": "scatter"
           }
          ],
          "scatter3d": [
           {
            "line": {
             "colorbar": {
              "outlinewidth": 0,
              "ticks": ""
             }
            },
            "marker": {
             "colorbar": {
              "outlinewidth": 0,
              "ticks": ""
             }
            },
            "type": "scatter3d"
           }
          ],
          "scattercarpet": [
           {
            "marker": {
             "colorbar": {
              "outlinewidth": 0,
              "ticks": ""
             }
            },
            "type": "scattercarpet"
           }
          ],
          "scattergeo": [
           {
            "marker": {
             "colorbar": {
              "outlinewidth": 0,
              "ticks": ""
             }
            },
            "type": "scattergeo"
           }
          ],
          "scattergl": [
           {
            "marker": {
             "colorbar": {
              "outlinewidth": 0,
              "ticks": ""
             }
            },
            "type": "scattergl"
           }
          ],
          "scattermapbox": [
           {
            "marker": {
             "colorbar": {
              "outlinewidth": 0,
              "ticks": ""
             }
            },
            "type": "scattermapbox"
           }
          ],
          "scatterpolar": [
           {
            "marker": {
             "colorbar": {
              "outlinewidth": 0,
              "ticks": ""
             }
            },
            "type": "scatterpolar"
           }
          ],
          "scatterpolargl": [
           {
            "marker": {
             "colorbar": {
              "outlinewidth": 0,
              "ticks": ""
             }
            },
            "type": "scatterpolargl"
           }
          ],
          "scatterternary": [
           {
            "marker": {
             "colorbar": {
              "outlinewidth": 0,
              "ticks": ""
             }
            },
            "type": "scatterternary"
           }
          ],
          "surface": [
           {
            "colorbar": {
             "outlinewidth": 0,
             "ticks": ""
            },
            "colorscale": [
             [
              0,
              "#0d0887"
             ],
             [
              0.1111111111111111,
              "#46039f"
             ],
             [
              0.2222222222222222,
              "#7201a8"
             ],
             [
              0.3333333333333333,
              "#9c179e"
             ],
             [
              0.4444444444444444,
              "#bd3786"
             ],
             [
              0.5555555555555556,
              "#d8576b"
             ],
             [
              0.6666666666666666,
              "#ed7953"
             ],
             [
              0.7777777777777778,
              "#fb9f3a"
             ],
             [
              0.8888888888888888,
              "#fdca26"
             ],
             [
              1,
              "#f0f921"
             ]
            ],
            "type": "surface"
           }
          ],
          "table": [
           {
            "cells": {
             "fill": {
              "color": "#EBF0F8"
             },
             "line": {
              "color": "white"
             }
            },
            "header": {
             "fill": {
              "color": "#C8D4E3"
             },
             "line": {
              "color": "white"
             }
            },
            "type": "table"
           }
          ]
         },
         "layout": {
          "annotationdefaults": {
           "arrowcolor": "#2a3f5f",
           "arrowhead": 0,
           "arrowwidth": 1
          },
          "colorscale": {
           "diverging": [
            [
             0,
             "#8e0152"
            ],
            [
             0.1,
             "#c51b7d"
            ],
            [
             0.2,
             "#de77ae"
            ],
            [
             0.3,
             "#f1b6da"
            ],
            [
             0.4,
             "#fde0ef"
            ],
            [
             0.5,
             "#f7f7f7"
            ],
            [
             0.6,
             "#e6f5d0"
            ],
            [
             0.7,
             "#b8e186"
            ],
            [
             0.8,
             "#7fbc41"
            ],
            [
             0.9,
             "#4d9221"
            ],
            [
             1,
             "#276419"
            ]
           ],
           "sequential": [
            [
             0,
             "#0d0887"
            ],
            [
             0.1111111111111111,
             "#46039f"
            ],
            [
             0.2222222222222222,
             "#7201a8"
            ],
            [
             0.3333333333333333,
             "#9c179e"
            ],
            [
             0.4444444444444444,
             "#bd3786"
            ],
            [
             0.5555555555555556,
             "#d8576b"
            ],
            [
             0.6666666666666666,
             "#ed7953"
            ],
            [
             0.7777777777777778,
             "#fb9f3a"
            ],
            [
             0.8888888888888888,
             "#fdca26"
            ],
            [
             1,
             "#f0f921"
            ]
           ],
           "sequentialminus": [
            [
             0,
             "#0d0887"
            ],
            [
             0.1111111111111111,
             "#46039f"
            ],
            [
             0.2222222222222222,
             "#7201a8"
            ],
            [
             0.3333333333333333,
             "#9c179e"
            ],
            [
             0.4444444444444444,
             "#bd3786"
            ],
            [
             0.5555555555555556,
             "#d8576b"
            ],
            [
             0.6666666666666666,
             "#ed7953"
            ],
            [
             0.7777777777777778,
             "#fb9f3a"
            ],
            [
             0.8888888888888888,
             "#fdca26"
            ],
            [
             1,
             "#f0f921"
            ]
           ]
          },
          "colorway": [
           "#636efa",
           "#EF553B",
           "#00cc96",
           "#ab63fa",
           "#FFA15A",
           "#19d3f3",
           "#FF6692",
           "#B6E880",
           "#FF97FF",
           "#FECB52"
          ],
          "font": {
           "color": "#2a3f5f"
          },
          "geo": {
           "bgcolor": "white",
           "lakecolor": "white",
           "landcolor": "#E5ECF6",
           "showlakes": true,
           "showland": true,
           "subunitcolor": "white"
          },
          "hoverlabel": {
           "align": "left"
          },
          "hovermode": "closest",
          "mapbox": {
           "style": "light"
          },
          "paper_bgcolor": "white",
          "plot_bgcolor": "#E5ECF6",
          "polar": {
           "angularaxis": {
            "gridcolor": "white",
            "linecolor": "white",
            "ticks": ""
           },
           "bgcolor": "#E5ECF6",
           "radialaxis": {
            "gridcolor": "white",
            "linecolor": "white",
            "ticks": ""
           }
          },
          "scene": {
           "xaxis": {
            "backgroundcolor": "#E5ECF6",
            "gridcolor": "white",
            "gridwidth": 2,
            "linecolor": "white",
            "showbackground": true,
            "ticks": "",
            "zerolinecolor": "white"
           },
           "yaxis": {
            "backgroundcolor": "#E5ECF6",
            "gridcolor": "white",
            "gridwidth": 2,
            "linecolor": "white",
            "showbackground": true,
            "ticks": "",
            "zerolinecolor": "white"
           },
           "zaxis": {
            "backgroundcolor": "#E5ECF6",
            "gridcolor": "white",
            "gridwidth": 2,
            "linecolor": "white",
            "showbackground": true,
            "ticks": "",
            "zerolinecolor": "white"
           }
          },
          "shapedefaults": {
           "line": {
            "color": "#2a3f5f"
           }
          },
          "ternary": {
           "aaxis": {
            "gridcolor": "white",
            "linecolor": "white",
            "ticks": ""
           },
           "baxis": {
            "gridcolor": "white",
            "linecolor": "white",
            "ticks": ""
           },
           "bgcolor": "#E5ECF6",
           "caxis": {
            "gridcolor": "white",
            "linecolor": "white",
            "ticks": ""
           }
          },
          "title": {
           "x": 0.05
          },
          "xaxis": {
           "automargin": true,
           "gridcolor": "white",
           "linecolor": "white",
           "ticks": "",
           "zerolinecolor": "white",
           "zerolinewidth": 2
          },
          "yaxis": {
           "automargin": true,
           "gridcolor": "white",
           "linecolor": "white",
           "ticks": "",
           "zerolinecolor": "white",
           "zerolinewidth": 2
          }
         }
        },
        "title": {
         "text": "Daily Booking Rate Over Time"
        },
        "xaxis": {
         "anchor": "y",
         "autorange": true,
         "domain": [
          0,
          0.98
         ],
         "range": [
          "2018-05-04",
          "2018-08-01"
         ],
         "title": {
          "text": "Conversation Start Date"
         },
         "type": "date"
        },
        "yaxis": {
         "anchor": "x",
         "autorange": true,
         "domain": [
          0,
          1
         ],
         "range": [
          2.3204462465025846,
          54.503070612225535
         ],
         "title": {
          "text": "Book Rate (%)"
         },
         "type": "linear"
        }
       }
      },
      "image/png": "[encoded data removed]",
      "text/html": [
       "<div>\n",
       "        \n",
       "        \n",
       "            <div id=\"79dd33ee-f7df-40e4-b51c-8952b386155b\" class=\"plotly-graph-div\" style=\"height:600px; width:100%;\"></div>\n",
       "            <script type=\"text/javascript\">\n",
       "                require([\"plotly\"], function(Plotly) {\n",
       "                    window.PLOTLYENV=window.PLOTLYENV || {};\n",
       "                    \n",
       "                if (document.getElementById(\"79dd33ee-f7df-40e4-b51c-8952b386155b\")) {\n",
       "                    Plotly.newPlot(\n",
       "                        '79dd33ee-f7df-40e4-b51c-8952b386155b',\n",
       "                        [{\"hoverlabel\": {\"namelength\": 0}, \"hovertemplate\": \"date=%{x}<br>rate=%{y}\", \"legendgroup\": \"\", \"line\": {\"color\": \"#636efa\", \"dash\": \"solid\"}, \"mode\": \"lines\", \"name\": \"\", \"showlegend\": false, \"type\": \"scatter\", \"x\": [\"2018-05-04T00:00:00\", \"2018-05-05T00:00:00\", \"2018-05-06T00:00:00\", \"2018-05-07T00:00:00\", \"2018-05-08T00:00:00\", \"2018-05-09T00:00:00\", \"2018-05-10T00:00:00\", \"2018-05-11T00:00:00\", \"2018-05-12T00:00:00\", \"2018-05-13T00:00:00\", \"2018-05-14T00:00:00\", \"2018-05-15T00:00:00\", \"2018-05-16T00:00:00\", \"2018-05-17T00:00:00\", \"2018-05-18T00:00:00\", \"2018-05-19T00:00:00\", \"2018-05-20T00:00:00\", \"2018-05-21T00:00:00\", \"2018-05-22T00:00:00\", \"2018-05-23T00:00:00\", \"2018-05-24T00:00:00\", \"2018-05-25T00:00:00\", \"2018-05-26T00:00:00\", \"2018-05-27T00:00:00\", \"2018-05-28T00:00:00\", \"2018-05-29T00:00:00\", \"2018-05-30T00:00:00\", \"2018-05-31T00:00:00\", \"2018-06-01T00:00:00\", \"2018-06-02T00:00:00\", \"2018-06-03T00:00:00\", \"2018-06-04T00:00:00\", \"2018-06-05T00:00:00\", \"2018-06-06T00:00:00\", \"2018-06-07T00:00:00\", \"2018-06-08T00:00:00\", \"2018-06-09T00:00:00\", \"2018-06-10T00:00:00\", \"2018-06-11T00:00:00\", \"2018-06-12T00:00:00\", \"2018-06-13T00:00:00\", \"2018-06-14T00:00:00\", \"2018-06-15T00:00:00\", \"2018-06-16T00:00:00\", \"2018-06-17T00:00:00\", \"2018-06-18T00:00:00\", \"2018-06-19T00:00:00\", \"2018-06-20T00:00:00\", \"2018-06-21T00:00:00\", \"2018-06-22T00:00:00\", \"2018-06-23T00:00:00\", \"2018-06-24T00:00:00\", \"2018-06-25T00:00:00\", \"2018-06-26T00:00:00\", \"2018-06-27T00:00:00\", \"2018-06-28T00:00:00\", \"2018-06-29T00:00:00\", \"2018-06-30T00:00:00\", \"2018-07-01T00:00:00\", \"2018-07-02T00:00:00\", \"2018-07-03T00:00:00\", \"2018-07-04T00:00:00\", \"2018-07-05T00:00:00\", \"2018-07-06T00:00:00\", \"2018-07-07T00:00:00\", \"2018-07-08T00:00:00\", \"2018-07-09T00:00:00\", \"2018-07-10T00:00:00\", \"2018-07-11T00:00:00\", \"2018-07-12T00:00:00\", \"2018-07-13T00:00:00\", \"2018-07-14T00:00:00\", \"2018-07-15T00:00:00\", \"2018-07-16T00:00:00\", \"2018-07-17T00:00:00\", \"2018-07-18T00:00:00\", \"2018-07-19T00:00:00\", \"2018-07-20T00:00:00\", \"2018-07-21T00:00:00\", \"2018-07-22T00:00:00\", \"2018-07-23T00:00:00\", \"2018-07-24T00:00:00\", \"2018-07-25T00:00:00\", \"2018-07-26T00:00:00\", \"2018-07-27T00:00:00\", \"2018-07-28T00:00:00\", \"2018-07-29T00:00:00\", \"2018-07-30T00:00:00\", \"2018-07-31T00:00:00\", \"2018-08-01T00:00:00\"], \"xaxis\": \"x\", \"y\": [44.70046082949309, 44.690265486725664, 44.78260869565218, 48.54368932038835, 40.707964601769916, 38.64734299516908, 43.21608040201005, 44.97607655502392, 38.35616438356164, 47.0873786407767, 43.54066985645933, 43.111111111111114, 40.56603773584906, 50.0, 43.81443298969072, 44.339622641509436, 44.97607655502392, 41.78403755868544, 45.77777777777778, 37.65182186234818, 51.89393939393939, 44.44444444444444, 46.91943127962085, 45.77777777777778, 41.66666666666667, 50.0, 41.338582677165356, 39.768339768339764, 44.10480349344978, 44.03669724770643, 44.13145539906103, 45.45454545454545, 46.288209606986904, 47.674418604651166, 40.36697247706422, 38.91050583657588, 41.70040485829959, 51.181102362204726, 41.96078431372549, 47.67932489451477, 43.7007874015748, 46.125461254612546, 39.41908713692946, 42.803030303030305, 42.21311475409836, 42.971887550200805, 43.62139917695473, 41.08527131782946, 41.43426294820717, 47.107438016528924, 43.88185654008439, 43.388429752066116, 38.90909090909091, 39.33054393305439, 42.29390681003584, 44.074074074074076, 43.02325581395349, 45.0, 42.42424242424242, 42.80442804428044, 47.89272030651341, 46.875, 43.84615384615385, 42.69662921348314, 44.31372549019608, 46.101694915254235, 48.421052631578945, 41.544117647058826, 39.27272727272727, 38.429752066115704, 48.43205574912892, 41.54929577464789, 39.568345323741006, 49.29078014184397, 44.554455445544555, 40.3448275862069, 44.765342960288805, 44.71830985915493, 48.33948339483395, 47.58620689655172, 49.8220640569395, 44.98141263940521, 46.04810996563574, 39.57597173144876, 43.50877192982456, 38.064516129032256, 31.086142322097377, 18.75, 12.418300653594772, 4.929577464788732], \"yaxis\": \"y\"}],\n",
       "                        {\"height\": 600, \"legend\": {\"tracegroupgap\": 0}, \"template\": {\"data\": {\"bar\": [{\"error_x\": {\"color\": \"#2a3f5f\"}, \"error_y\": {\"color\": \"#2a3f5f\"}, \"marker\": {\"line\": {\"color\": \"#E5ECF6\", \"width\": 0.5}}, \"type\": \"bar\"}], \"barpolar\": [{\"marker\": {\"line\": {\"color\": \"#E5ECF6\", \"width\": 0.5}}, \"type\": \"barpolar\"}], \"carpet\": [{\"aaxis\": {\"endlinecolor\": \"#2a3f5f\", \"gridcolor\": \"white\", \"linecolor\": \"white\", \"minorgridcolor\": \"white\", \"startlinecolor\": \"#2a3f5f\"}, \"baxis\": {\"endlinecolor\": \"#2a3f5f\", \"gridcolor\": \"white\", \"linecolor\": \"white\", \"minorgridcolor\": \"white\", \"startlinecolor\": \"#2a3f5f\"}, \"type\": \"carpet\"}], \"choropleth\": [{\"colorbar\": {\"outlinewidth\": 0, \"ticks\": \"\"}, \"type\": \"choropleth\"}], \"contour\": [{\"colorbar\": {\"outlinewidth\": 0, \"ticks\": \"\"}, \"colorscale\": [[0.0, \"#0d0887\"], [0.1111111111111111, \"#46039f\"], [0.2222222222222222, \"#7201a8\"], [0.3333333333333333, \"#9c179e\"], [0.4444444444444444, \"#bd3786\"], [0.5555555555555556, \"#d8576b\"], [0.6666666666666666, \"#ed7953\"], [0.7777777777777778, \"#fb9f3a\"], [0.8888888888888888, \"#fdca26\"], [1.0, \"#f0f921\"]], \"type\": \"contour\"}], \"contourcarpet\": [{\"colorbar\": {\"outlinewidth\": 0, \"ticks\": \"\"}, \"type\": \"contourcarpet\"}], \"heatmap\": [{\"colorbar\": {\"outlinewidth\": 0, \"ticks\": \"\"}, \"colorscale\": [[0.0, \"#0d0887\"], [0.1111111111111111, \"#46039f\"], [0.2222222222222222, \"#7201a8\"], [0.3333333333333333, \"#9c179e\"], [0.4444444444444444, \"#bd3786\"], [0.5555555555555556, \"#d8576b\"], [0.6666666666666666, \"#ed7953\"], [0.7777777777777778, \"#fb9f3a\"], [0.8888888888888888, \"#fdca26\"], [1.0, \"#f0f921\"]], \"type\": \"heatmap\"}], \"heatmapgl\": [{\"colorbar\": {\"outlinewidth\": 0, \"ticks\": \"\"}, \"colorscale\": [[0.0, \"#0d0887\"], [0.1111111111111111, \"#46039f\"], [0.2222222222222222, \"#7201a8\"], [0.3333333333333333, \"#9c179e\"], [0.4444444444444444, \"#bd3786\"], [0.5555555555555556, \"#d8576b\"], [0.6666666666666666, \"#ed7953\"], [0.7777777777777778, \"#fb9f3a\"], [0.8888888888888888, \"#fdca26\"], [1.0, \"#f0f921\"]], \"type\": \"heatmapgl\"}], \"histogram\": [{\"marker\": {\"colorbar\": {\"outlinewidth\": 0, \"ticks\": \"\"}}, \"type\": \"histogram\"}], \"histogram2d\": [{\"colorbar\": {\"outlinewidth\": 0, \"ticks\": \"\"}, \"colorscale\": [[0.0, \"#0d0887\"], [0.1111111111111111, \"#46039f\"], [0.2222222222222222, \"#7201a8\"], [0.3333333333333333, \"#9c179e\"], [0.4444444444444444, \"#bd3786\"], [0.5555555555555556, \"#d8576b\"], [0.6666666666666666, \"#ed7953\"], [0.7777777777777778, \"#fb9f3a\"], [0.8888888888888888, \"#fdca26\"], [1.0, \"#f0f921\"]], \"type\": \"histogram2d\"}], \"histogram2dcontour\": [{\"colorbar\": {\"outlinewidth\": 0, \"ticks\": \"\"}, \"colorscale\": [[0.0, \"#0d0887\"], [0.1111111111111111, \"#46039f\"], [0.2222222222222222, \"#7201a8\"], [0.3333333333333333, \"#9c179e\"], [0.4444444444444444, \"#bd3786\"], [0.5555555555555556, \"#d8576b\"], [0.6666666666666666, \"#ed7953\"], [0.7777777777777778, \"#fb9f3a\"], [0.8888888888888888, \"#fdca26\"], [1.0, \"#f0f921\"]], \"type\": \"histogram2dcontour\"}], \"mesh3d\": [{\"colorbar\": {\"outlinewidth\": 0, \"ticks\": \"\"}, \"type\": \"mesh3d\"}], \"parcoords\": [{\"line\": {\"colorbar\": {\"outlinewidth\": 0, \"ticks\": \"\"}}, \"type\": \"parcoords\"}], \"scatter\": [{\"marker\": {\"colorbar\": {\"outlinewidth\": 0, \"ticks\": \"\"}}, \"type\": \"scatter\"}], \"scatter3d\": [{\"line\": {\"colorbar\": {\"outlinewidth\": 0, \"ticks\": \"\"}}, \"marker\": {\"colorbar\": {\"outlinewidth\": 0, \"ticks\": \"\"}}, \"type\": \"scatter3d\"}], \"scattercarpet\": [{\"marker\": {\"colorbar\": {\"outlinewidth\": 0, \"ticks\": \"\"}}, \"type\": \"scattercarpet\"}], \"scattergeo\": [{\"marker\": {\"colorbar\": {\"outlinewidth\": 0, \"ticks\": \"\"}}, \"type\": \"scattergeo\"}], \"scattergl\": [{\"marker\": {\"colorbar\": {\"outlinewidth\": 0, \"ticks\": \"\"}}, \"type\": \"scattergl\"}], \"scattermapbox\": [{\"marker\": {\"colorbar\": {\"outlinewidth\": 0, \"ticks\": \"\"}}, \"type\": \"scattermapbox\"}], \"scatterpolar\": [{\"marker\": {\"colorbar\": {\"outlinewidth\": 0, \"ticks\": \"\"}}, \"type\": \"scatterpolar\"}], \"scatterpolargl\": [{\"marker\": {\"colorbar\": {\"outlinewidth\": 0, \"ticks\": \"\"}}, \"type\": \"scatterpolargl\"}], \"scatterternary\": [{\"marker\": {\"colorbar\": {\"outlinewidth\": 0, \"ticks\": \"\"}}, \"type\": \"scatterternary\"}], \"surface\": [{\"colorbar\": {\"outlinewidth\": 0, \"ticks\": \"\"}, \"colorscale\": [[0.0, \"#0d0887\"], [0.1111111111111111, \"#46039f\"], [0.2222222222222222, \"#7201a8\"], [0.3333333333333333, \"#9c179e\"], [0.4444444444444444, \"#bd3786\"], [0.5555555555555556, \"#d8576b\"], [0.6666666666666666, \"#ed7953\"], [0.7777777777777778, \"#fb9f3a\"], [0.8888888888888888, \"#fdca26\"], [1.0, \"#f0f921\"]], \"type\": \"surface\"}], \"table\": [{\"cells\": {\"fill\": {\"color\": \"#EBF0F8\"}, \"line\": {\"color\": \"white\"}}, \"header\": {\"fill\": {\"color\": \"#C8D4E3\"}, \"line\": {\"color\": \"white\"}}, \"type\": \"table\"}]}, \"layout\": {\"annotationdefaults\": {\"arrowcolor\": \"#2a3f5f\", \"arrowhead\": 0, \"arrowwidth\": 1}, \"colorscale\": {\"diverging\": [[0, \"#8e0152\"], [0.1, \"#c51b7d\"], [0.2, \"#de77ae\"], [0.3, \"#f1b6da\"], [0.4, \"#fde0ef\"], [0.5, \"#f7f7f7\"], [0.6, \"#e6f5d0\"], [0.7, \"#b8e186\"], [0.8, \"#7fbc41\"], [0.9, \"#4d9221\"], [1, \"#276419\"]], \"sequential\": [[0.0, \"#0d0887\"], [0.1111111111111111, \"#46039f\"], [0.2222222222222222, \"#7201a8\"], [0.3333333333333333, \"#9c179e\"], [0.4444444444444444, \"#bd3786\"], [0.5555555555555556, \"#d8576b\"], [0.6666666666666666, \"#ed7953\"], [0.7777777777777778, \"#fb9f3a\"], [0.8888888888888888, \"#fdca26\"], [1.0, \"#f0f921\"]], \"sequentialminus\": [[0.0, \"#0d0887\"], [0.1111111111111111, \"#46039f\"], [0.2222222222222222, \"#7201a8\"], [0.3333333333333333, \"#9c179e\"], [0.4444444444444444, \"#bd3786\"], [0.5555555555555556, \"#d8576b\"], [0.6666666666666666, \"#ed7953\"], [0.7777777777777778, \"#fb9f3a\"], [0.8888888888888888, \"#fdca26\"], [1.0, \"#f0f921\"]]}, \"colorway\": [\"#636efa\", \"#EF553B\", \"#00cc96\", \"#ab63fa\", \"#FFA15A\", \"#19d3f3\", \"#FF6692\", \"#B6E880\", \"#FF97FF\", \"#FECB52\"], \"font\": {\"color\": \"#2a3f5f\"}, \"geo\": {\"bgcolor\": \"white\", \"lakecolor\": \"white\", \"landcolor\": \"#E5ECF6\", \"showlakes\": true, \"showland\": true, \"subunitcolor\": \"white\"}, \"hoverlabel\": {\"align\": \"left\"}, \"hovermode\": \"closest\", \"mapbox\": {\"style\": \"light\"}, \"paper_bgcolor\": \"white\", \"plot_bgcolor\": \"#E5ECF6\", \"polar\": {\"angularaxis\": {\"gridcolor\": \"white\", \"linecolor\": \"white\", \"ticks\": \"\"}, \"bgcolor\": \"#E5ECF6\", \"radialaxis\": {\"gridcolor\": \"white\", \"linecolor\": \"white\", \"ticks\": \"\"}}, \"scene\": {\"xaxis\": {\"backgroundcolor\": \"#E5ECF6\", \"gridcolor\": \"white\", \"gridwidth\": 2, \"linecolor\": \"white\", \"showbackground\": true, \"ticks\": \"\", \"zerolinecolor\": \"white\"}, \"yaxis\": {\"backgroundcolor\": \"#E5ECF6\", \"gridcolor\": \"white\", \"gridwidth\": 2, \"linecolor\": \"white\", \"showbackground\": true, \"ticks\": \"\", \"zerolinecolor\": \"white\"}, \"zaxis\": {\"backgroundcolor\": \"#E5ECF6\", \"gridcolor\": \"white\", \"gridwidth\": 2, \"linecolor\": \"white\", \"showbackground\": true, \"ticks\": \"\", \"zerolinecolor\": \"white\"}}, \"shapedefaults\": {\"line\": {\"color\": \"#2a3f5f\"}}, \"ternary\": {\"aaxis\": {\"gridcolor\": \"white\", \"linecolor\": \"white\", \"ticks\": \"\"}, \"baxis\": {\"gridcolor\": \"white\", \"linecolor\": \"white\", \"ticks\": \"\"}, \"bgcolor\": \"#E5ECF6\", \"caxis\": {\"gridcolor\": \"white\", \"linecolor\": \"white\", \"ticks\": \"\"}}, \"title\": {\"x\": 0.05}, \"xaxis\": {\"automargin\": true, \"gridcolor\": \"white\", \"linecolor\": \"white\", \"ticks\": \"\", \"zerolinecolor\": \"white\", \"zerolinewidth\": 2}, \"yaxis\": {\"automargin\": true, \"gridcolor\": \"white\", \"linecolor\": \"white\", \"ticks\": \"\", \"zerolinecolor\": \"white\", \"zerolinewidth\": 2}}}, \"title\": {\"text\": \"Daily Booking Rate Over Time\"}, \"xaxis\": {\"anchor\": \"y\", \"domain\": [0.0, 0.98], \"title\": {\"text\": \"Conversation Start Date\"}}, \"yaxis\": {\"anchor\": \"x\", \"domain\": [0.0, 1.0], \"title\": {\"text\": \"Book Rate (%)\"}}},\n",
       "                        {\"responsive\": true}\n",
       "                    ).then(function(){\n",
       "                            \n",
       "var gd = document.getElementById('79dd33ee-f7df-40e4-b51c-8952b386155b');\n",
       "var x = new MutationObserver(function (mutations, observer) {{\n",
       "        var display = window.getComputedStyle(gd).display;\n",
       "        if (!display || display === 'none') {{\n",
       "            console.log([gd, 'removed!']);\n",
       "            Plotly.purge(gd);\n",
       "            observer.disconnect();\n",
       "        }}\n",
       "}});\n",
       "\n",
       "// Listen for the removal of the full notebook cells\n",
       "var notebookContainer = gd.closest('#notebook-container');\n",
       "if (notebookContainer) {{\n",
       "    x.observe(notebookContainer, {childList: true});\n",
       "}}\n",
       "\n",
       "// Listen for the clearing of the current output cell\n",
       "var outputEl = gd.closest('.output');\n",
       "if (outputEl) {{\n",
       "    x.observe(outputEl, {childList: true});\n",
       "}}\n",
       "\n",
       "                        })\n",
       "                };\n",
       "                });\n",
       "            </script>\n",
       "        </div>"
      ]
     },
     "metadata": {},
     "output_type": "display_data"
    }
   ],
   "source": [
    "fig = px.line(df_book_rate, x='date', y='rate', title='Daily Booking Rate')\n",
    "fig.update_layout(title='Daily Booking Rate Over Time',\n",
    "                   xaxis_title='Conversation Start Date',\n",
    "                   yaxis_title='Book Rate (%)')\n",
    "fig.show()"
   ]
  },
  {
   "cell_type": "markdown",
   "metadata": {},
   "source": [
    "**1. What is the daily booking rate for each of the 90 days prior to the snapshot? Is there a downward trend?**\n",
    "\n",
    "I have created an interactive chart above that allows the user to hover a mouse over the data and see the book rate for each day. It tends to oscillate between 40 and 50 percent. There is a significant downward trend starting after July 27th, 2018."
   ]
  },
  {
   "cell_type": "markdown",
   "metadata": {},
   "source": [
    "**2. Can you narrate a reason why this trend exists? Is there a reason to be concerned? Please provide additional data and evidence to justify your position.**\n",
    "\n",
    "I do not believe there is a reason to be concerned. Pet owners initiate conversations, but the provider does not have to accept the same day. Perhaps it takes a few days for providers to accept and that is why conversations near the end of the dataset do not contain as many confirmed bookings. As seen in the cell below, it takes an average of more than 3 days for a provider to accept a request from an owner. Therefore, I would not yet be concerned because the drop off occurs within the last few days of our data snapshot. Those conversations have been initiated but have not yet had enough time to book. "
   ]
  },
  {
   "cell_type": "code",
   "execution_count": null,
   "metadata": {},
   "outputs": [],
   "source": [
    "mask = df_temp['booked_at'].notnull()\n",
    "bookings = df_temp.loc[mask, ['added', 'booked_at']]\n",
    "bookings['days_to_book'] = (bookings['booked_at'] - bookings['added']).dt.days\n",
    "mean_days_to_book = bookings['days_to_book'].mean()\n",
    "print(f'It takes an average of {round(mean_days_to_book, 2)} days for a conversation to turn into a booking.')"
   ]
  },
  {
   "cell_type": "markdown",
   "metadata": {},
   "source": [
    "<a id='4'></a>\n",
    "## IV. Analyzing Take Rate\n",
    "\n",
    "\n",
    "In order to do the next exercise, you will need to understand the fee structure for this company. Each user has a fee associated with their account (recorded on people_person). If that user books as an owner, the company charges a service fee (in addition to the booking total) that is a percentage of the booking total (to a maximum of \\$50). Also, each service has a fee amount (recorded on services_service ).\n",
    "\n",
    "Before a provider receives their payment, the company takes a percentage of the booking total as dictated by that fee. As an example, suppose an owner has a fee amount of 5% and books with a service that has a fee amount of 15%. If the booking was for \\$100, then the owner would get charged \\$105 (adding the owner’s fee). The \\$5 owner fee would go to the company. An additional \\$15 would also go to the company since the service had a 15% fee associated to it. The remaining $85 would go to the provider. To summarize:\n",
    "\n",
    "\n",
    "| Amount        | Description   |\n",
    "| :-----------: |:-------------:|\n",
    "| Booking Total     | \\$100 (e.g. 4 walks at \\$25/each) |\n",
    "| Owner Fee     | \\$5 (5% of the booking total)      |\n",
    "| Gross Billings | \\$105 charged to the owner     |\n",
    "| Service Fee | \\$15 (15% of the booking total)      |\n",
    "| Net Revenue | \\$20 (owner fee + service fee)      |\n",
    "| Provider Payment | \\$85 earnings for the provider      |\n",
    "\n",
    "1. In each month, what were the gross billings and net revenue?\n",
    "2. Define take rate to be the percentage of gross billings that is net revenue. In the previous example, the take rate is slightly more than 19% since `$20/$105 ~ 0.1905`. In each month, what was the aggregate take rate?\n",
    "3. Did take rate trend up or trend down or remain unchanged over time?\n",
    "4. If it did change, investigate why and provide an explanation. Be sure to provide\n",
    "additional data/charts/evidence that justify your explanation. Any claims should be backed by data."
   ]
  },
  {
   "cell_type": "markdown",
   "metadata": {},
   "source": [
    "Collect all relevant bookings information from the conversations dataframe."
   ]
  },
  {
   "cell_type": "code",
   "execution_count": null,
   "metadata": {},
   "outputs": [],
   "source": [
    "# Start by getting the information we need on bookings that were not cancelled.\n",
    "mask = df_conversations['booked_at'].notnull() & df_conversations['cancelled_at'].isnull()\n",
    "df_bookings = df_conversations.loc[mask, ['id', 'booking_total', 'requester_id', 'service_id', 'booked_at']]\n",
    "# Rename id columns since it is ambiguous and there are multiple id values throughout the various dataframes.\n",
    "df_bookings.rename(columns={'id': 'conversation_id'}, inplace=True)\n",
    "df_bookings.head(5)"
   ]
  },
  {
   "cell_type": "markdown",
   "metadata": {},
   "source": [
    "Merge in fee data from the services dataframe."
   ]
  },
  {
   "cell_type": "code",
   "execution_count": null,
   "metadata": {},
   "outputs": [],
   "source": [
    "df_relevant_services_info = df_services[['service_type', 'provider_id', 'id', 'fee']]\n",
    "df_merged = pd.merge(df_bookings, df_relevant_services_info, left_on=['service_id'], right_on=['id'])\n",
    "df_merged.drop('id', axis=1, inplace=True)\n",
    "df_merged.rename(columns={'fee': 'service_fee_rate'}, inplace=True)\n",
    "df_merged.head()"
   ]
  },
  {
   "cell_type": "markdown",
   "metadata": {},
   "source": [
    "Now we need to join the fee information related to the person requesting the service. This information in contained in the `people_person` dataframe."
   ]
  },
  {
   "cell_type": "code",
   "execution_count": null,
   "metadata": {},
   "outputs": [],
   "source": [
    "df_merged = pd.merge(df_merged, df_people_person[['id', 'fee']], left_on=['requester_id'], right_on=['id'])\n",
    "df_merged.drop('id', axis=1, inplace=True)\n",
    "df_merged.rename(columns={'fee': 'owner_fee_rate'}, inplace=True)\n",
    "df_merged.head()"
   ]
  },
  {
   "cell_type": "code",
   "execution_count": null,
   "metadata": {},
   "outputs": [],
   "source": [
    "df_rates = df_merged.copy(deep=True)\n",
    "df_rates['owner_fee'] = df_rates['owner_fee_rate'] * df_rates['booking_total']\n",
    "df_rates['gross_billings'] = df_rates['owner_fee'] + df_rates['booking_total']\n",
    "df_rates['service_fee'] = df_rates['service_fee_rate'] * df_rates['booking_total']\n",
    "# Service fee can only be a maximum of $50.\n",
    "df_rates['service_fee'] = np.where(df_rates['service_fee'] > 50, 50, df_rates['service_fee'])\n",
    "df_rates['net_revenue'] = df_rates['service_fee'] + df_rates['owner_fee']\n",
    "df_rates['provider_payment'] = df_rates['booking_total'] - df_rates['service_fee']\n",
    "# We only want the booked at date to include year and month.\n",
    "df_rates['booked_at'] = df_rates['booked_at'].map(lambda x: x.strftime('%Y-%m'))"
   ]
  },
  {
   "cell_type": "code",
   "execution_count": null,
   "metadata": {},
   "outputs": [],
   "source": [
    "df_rates.head()"
   ]
  },
  {
   "cell_type": "code",
   "execution_count": null,
   "metadata": {},
   "outputs": [],
   "source": [
    "billing_info = df_rates[['booked_at', 'gross_billings', 'net_revenue']].groupby(['booked_at'], as_index = False).agg(['sum'])\n",
    "billing_info['take_rate'] = billing_info['net_revenue'] / billing_info['gross_billings'] * 100\n",
    "billing_info"
   ]
  },
  {
   "cell_type": "markdown",
   "metadata": {},
   "source": [
    "**1. In each month, what were gross billings and net revenue?**\n",
    "\n",
    "The table above summarizes the gross billings and net revenue for every month in the data. The interactive chart below displays this information visually."
   ]
  },
  {
   "cell_type": "code",
   "execution_count": null,
   "metadata": {},
   "outputs": [],
   "source": [
    "# Plot gross billings and net revenue by date.\n",
    "trace1 = go.Scatter(\n",
    "    x = billing_info.index,\n",
    "    y = billing_info['gross_billings']['sum'],\n",
    "    mode = 'lines+markers',\n",
    "    name = 'gross_billings',\n",
    "    line = dict(\n",
    "        color = ('rgb(22, 96, 167)'))\n",
    ")\n",
    "\n",
    "trace2 = go.Scatter(\n",
    "    x = billing_info.index,\n",
    "    y = billing_info['net_revenue']['sum'],\n",
    "    mode = 'lines+markers',\n",
    "    name = 'net_revenue',\n",
    "    line = dict(\n",
    "        color = ('rgb(255, 0, 0)'))\n",
    ")\n",
    "\n",
    "data = [trace1, trace2]\n",
    "\n",
    "layout = go.Layout(\n",
    "    title='Gross Billings and Net Revenue By Date<br>(Hover For Breakdown)',\n",
    "    xaxis=dict(\n",
    "        title='Date',\n",
    "        titlefont=dict(\n",
    "            family='Courier New, monospace',\n",
    "            size=18,\n",
    "            color='#7f7f7f'\n",
    "        )\n",
    "    ),\n",
    "    yaxis=dict(\n",
    "        title='Dollars ($)',\n",
    "        titlefont=dict(\n",
    "            family='Courier New, monospace',\n",
    "            size=18,\n",
    "            color='#7f7f7f'\n",
    "        )\n",
    "    )\n",
    ")\n",
    "\n",
    "fig = go.Figure(data=data, layout=layout)\n",
    "py.iplot(fig, filename='gross_billings+net_revenue', layout=layout)"
   ]
  },
  {
   "cell_type": "markdown",
   "metadata": {},
   "source": [
    "**2. Define take rate to be the percentage of gross billings that is net revenue. In each month, what was the aggregate take rate?**\n",
    "\n",
    "The take rate for each month included in the above table and visualized in the chart below."
   ]
  },
  {
   "cell_type": "code",
   "execution_count": null,
   "metadata": {},
   "outputs": [],
   "source": [
    "# Plot take rate by date.\n",
    "trace = go.Scatter(\n",
    "    x = billing_info.index,\n",
    "    y = billing_info['take_rate'],\n",
    "    mode = 'lines+markers',\n",
    "    name = 'take_rate'\n",
    ")\n",
    "\n",
    "data = [trace]\n",
    "\n",
    "layout = go.Layout(\n",
    "    title='Take Rate By Date<br>(Hover For Breakdown)',\n",
    "    xaxis=dict(\n",
    "        title='Date',\n",
    "        titlefont=dict(\n",
    "            family='Courier New, monospace',\n",
    "            size=18,\n",
    "            color='#7f7f7f'\n",
    "        )\n",
    "    ),\n",
    "    yaxis=dict(\n",
    "        title='Take Rate (%)',\n",
    "        titlefont=dict(\n",
    "            family='Courier New, monospace',\n",
    "            size=18,\n",
    "            color='#7f7f7f'\n",
    "        )\n",
    "    )\n",
    ")\n",
    "\n",
    "fig = go.Figure(data=data, layout=layout)\n",
    "py.iplot(fig, filename='take_rate',layout=layout)"
   ]
  },
  {
   "cell_type": "markdown",
   "metadata": {},
   "source": [
    "**3. Did take rate trend up or trend down or remain unchanged over time?**\n",
    "\n",
    "Take rate has been trending up over time."
   ]
  },
  {
   "cell_type": "code",
   "execution_count": null,
   "metadata": {},
   "outputs": [],
   "source": [
    "# Net revenues are dependent upon owner fee, service fee, and booking total.\n",
    "billing_info = df_rates[['booked_at', 'owner_fee', 'service_fee', 'booking_total']].groupby(['booked_at'], as_index = False).agg(['mean'])\n",
    "billing_info"
   ]
  },
  {
   "cell_type": "code",
   "execution_count": null,
   "metadata": {},
   "outputs": [],
   "source": [
    "# Plot owner fee by date.\n",
    "trace = go.Scatter(\n",
    "    x = billing_info.index,\n",
    "    y = billing_info['owner_fee']['mean'],\n",
    "    mode = 'lines+markers',\n",
    "    name = 'average_owner_fee'\n",
    ")\n",
    "\n",
    "data = [trace]\n",
    "\n",
    "layout = go.Layout(\n",
    "    title='Average Owner Fee By Date<br>(Hover For Breakdown)',\n",
    "    xaxis=dict(\n",
    "        title='Date',\n",
    "        titlefont=dict(\n",
    "            family='Courier New, monospace',\n",
    "            size=18,\n",
    "            color='#7f7f7f'\n",
    "        )\n",
    "    ),\n",
    "    yaxis=dict(\n",
    "        title='Average Owner Fee ($)',\n",
    "        titlefont=dict(\n",
    "            family='Courier New, monospace',\n",
    "            size=18,\n",
    "            color='#7f7f7f'\n",
    "        )\n",
    "    )\n",
    ")\n",
    "\n",
    "fig = go.Figure(data=data, layout=layout)\n",
    "py.iplot(fig, filename='owner_fee_average',layout=layout)"
   ]
  },
  {
   "cell_type": "code",
   "execution_count": null,
   "metadata": {},
   "outputs": [],
   "source": [
    "# Plot service fee by date.\n",
    "trace = go.Scatter(\n",
    "    x = billing_info.index,\n",
    "    y = billing_info['service_fee']['mean'],\n",
    "    mode = 'lines+markers',\n",
    "    name = 'average_service_fee'\n",
    ")\n",
    "\n",
    "data = [trace]\n",
    "\n",
    "layout = go.Layout(\n",
    "    title='Average Service Fee By Date<br>(Hover For Breakdown)',\n",
    "    xaxis=dict(\n",
    "        title='Date',\n",
    "        titlefont=dict(\n",
    "            family='Courier New, monospace',\n",
    "            size=18,\n",
    "            color='#7f7f7f'\n",
    "        )\n",
    "    ),\n",
    "    yaxis=dict(\n",
    "        title='Average Service Fee ($)',\n",
    "        titlefont=dict(\n",
    "            family='Courier New, monospace',\n",
    "            size=18,\n",
    "            color='#7f7f7f'\n",
    "        )\n",
    "    )\n",
    ")\n",
    "\n",
    "fig = go.Figure(data=data, layout=layout)\n",
    "py.iplot(fig, filename='service_fee_average',layout=layout)"
   ]
  },
  {
   "cell_type": "code",
   "execution_count": null,
   "metadata": {},
   "outputs": [],
   "source": [
    "# Plot booking total by date.\n",
    "trace = go.Scatter(\n",
    "    x = billing_info.index,\n",
    "    y = billing_info['booking_total']['mean'],\n",
    "    mode = 'lines+markers',\n",
    "    name = 'average_booking_total'\n",
    ")\n",
    "\n",
    "data = [trace]\n",
    "\n",
    "layout = go.Layout(\n",
    "    title='Average Booking Total By Date<br>(Hover For Breakdown)',\n",
    "    xaxis=dict(\n",
    "        title='Date',\n",
    "        titlefont=dict(\n",
    "            family='Courier New, monospace',\n",
    "            size=18,\n",
    "            color='#7f7f7f'\n",
    "        )\n",
    "    ),\n",
    "    yaxis=dict(\n",
    "        title='Average Booking Total ($)',\n",
    "        titlefont=dict(\n",
    "            family='Courier New, monospace',\n",
    "            size=18,\n",
    "            color='#7f7f7f'\n",
    "        )\n",
    "    )\n",
    ")\n",
    "\n",
    "fig = go.Figure(data=data, layout=layout)\n",
    "py.iplot(fig, filename='booking_total_average',layout=layout)"
   ]
  },
  {
   "cell_type": "markdown",
   "metadata": {},
   "source": [
    "**4. If it did change, investigate why and provide an explanation. Be sure to provide additional data/charts/evidence that justify your explanation. Any claims should be backed by data.**\n",
    "\n",
    "\n",
    "The take rate is defined as the net revenue divided by gross billings. Breaking net revenue and gross billings into their component parts yields the equation `take rate = (owner fee + service fee) / (owner fee + booking total)`. Take rate has been on an upward trend, which means that the numerator `(owner fee + service fee)` has been getting larger, and/or the denominator `(owner fee + booking total)` has been getting smaller. It turns out that booking total had an initial decline and then has been relatively stable over the past year while service fees have been rising. Owner fees have been increasing as well but since owner fees appear in both the numerator and denominator of our equation they have less of an impact.\n",
    "\n",
    "In summary, an increase in take rate is mostly due to an increase in service fees and owner fees while booking total remains relatively unchanged."
   ]
  },
  {
   "cell_type": "markdown",
   "metadata": {},
   "source": [
    "<a id='5'></a>\n",
    "## V. New Conversation Flow\n",
    "\n",
    "Internal documents indicate that this recently acquired company was performing many A/B tests; we would like to investigate one. This platform had a conversation page where owners and service providers could exchange messages as they organized their booking. The team thought this page could use a re-design and set out to improve its UI. A product manager then set up a test to measure the new page's effectiveness. On 2018-04-04 , an A/B test was launched. For those owners who sent a request, they would be randomly assigned to variant or holdout groups. Those users who are in the variant group would see the new conversation flow. However, those in the holdout group would see the old conversation flow. Providers would always see the old conversation flow.\n",
    "1. Did conversations with the new conversation page book at a higher rate?\n",
    "2. Is it statistically significant?\n",
    "3. What would you recommend as next steps?"
   ]
  },
  {
   "cell_type": "code",
   "execution_count": null,
   "metadata": {},
   "outputs": [],
   "source": [
    "# Gather all data for the new conversation flow test.\n",
    "df_test_data = df_people_test.loc[df_people_test['test_name'] == 'New Conversation Flow']\n",
    "df_test_data.head(5)"
   ]
  },
  {
   "cell_type": "code",
   "execution_count": null,
   "metadata": {},
   "outputs": [],
   "source": [
    "# Gather the relevant bookings data to merge with the A/B test data.\n",
    "df_bookings = df_conversations[['id', 'added', 'service_id', 'booked_at', 'cancelled_at', 'requester_id']]\n",
    "df_bookings.rename(columns={'id': 'conversation_id'}, inplace=True)"
   ]
  },
  {
   "cell_type": "code",
   "execution_count": null,
   "metadata": {},
   "outputs": [],
   "source": [
    "df_bookings.head()"
   ]
  },
  {
   "cell_type": "code",
   "execution_count": null,
   "metadata": {},
   "outputs": [],
   "source": [
    "cutoff_date = pd.Timestamp(year=2018, month=5, day=4)\n",
    "df_bookings = df_bookings.loc[df_bookings['added'] >= cutoff_date]\n",
    "df_bookings['was_booked'] = df_bookings['booked_at'].notnull().astype(int)\n",
    "df_bookings['was_cancelled'] = df_bookings['cancelled_at'].notnull().astype(int)\n",
    "df_bookings.head(5)"
   ]
  },
  {
   "cell_type": "code",
   "execution_count": null,
   "metadata": {},
   "outputs": [],
   "source": [
    "df_merged_data = pd.merge(df_test_data[['test_group', 'person_id']],\n",
    "                          df_bookings, left_on='person_id', right_on='requester_id')\n",
    "df_merged_data.head(5)"
   ]
  },
  {
   "cell_type": "code",
   "execution_count": null,
   "metadata": {},
   "outputs": [],
   "source": [
    "df_merged_data[['test_group', 'was_booked']].groupby('test_group', as_index = False).agg(['count','mean', 'var'])"
   ]
  },
  {
   "cell_type": "markdown",
   "metadata": {},
   "source": [
    "**1. Did conversations with the new conversation page book at a higher rate?**\n",
    "\n",
    "Yes, the variant group (new conversation page) booked at a higher rate of 45.31% compared to 39.60% in the holdout group. However, that only considered bookings. The cell below shows the same data when we only considered bookings if they were not cancelled. In that case the variant group still does book at a higher rate."
   ]
  },
  {
   "cell_type": "code",
   "execution_count": null,
   "metadata": {},
   "outputs": [],
   "source": [
    "df = df_merged_data.loc[df_merged_data['was_cancelled'] == 0]\n",
    "df[['test_group', 'was_booked']].groupby('test_group', as_index = False).agg(['count','mean', 'var'])"
   ]
  },
  {
   "cell_type": "code",
   "execution_count": null,
   "metadata": {},
   "outputs": [],
   "source": [
    "data_holdout = df_merged_data.loc[df_merged_data['test_group'] == 'holdout']['was_booked']\n",
    "data_variant = df_merged_data.loc[df_merged_data['test_group'] == 'variant']['was_booked']\n",
    "# Don't assume the two groups have an equal population variance. Use Welch's t-test.\n",
    "stats.ttest_ind(a = data_holdout, b = data_variant, equal_var=False)"
   ]
  },
  {
   "cell_type": "markdown",
   "metadata": {},
   "source": [
    "**2. Is it statistically significant?**  \n",
    "\n",
    "The Welch's t-test yields a p-value approaching 0. You can think of the p-value as the probability that we are seeing a difference here just due to chance and that there is no actual difference between groups. A p-value approaching 0 means that the difference in the booking rate between the two groups is almost certainly not due to chance. We can conclude that the difference between groups is statistically signifant, meaning the new conversation flow group really does book at a higher rate than the holdout group.\n",
    "\n",
    "**3. Do you have any reservations about the experiment design? What would you recommend as next steps?**"
   ]
  },
  {
   "cell_type": "markdown",
   "metadata": {},
   "source": [
    "I do have a couple of reservations about this experiment. The increased booking rate could simply be due to the novelty effect of users seeing a new page. Perhaps we should be sending new users to the new page and comparing the booking rates to returning users. I also do not like that this test was run only in the warm months of the year, perhaps user behavior is different in the colder months. I also think we should have defined our stopping point before starting the experiment instead of stopping arbitrarily. \n",
    "\n",
    "I would roll out the new conversation flow to all users. We would monitor booking rates after that point to ensure the changes had the desired effect, and then perhaps run one or more additional A/B tests to try and improve booking rate even further. It may be worthwhile to survey users to determine what specifically about the new conversation flow has them booking at higher rates.  "
   ]
  },
  {
   "cell_type": "markdown",
   "metadata": {},
   "source": [
    "<a id='6'></a>\n",
    "## VI. Search Engine Marketing\n",
    "\n",
    "Search engine advertising is a huge driver of new user accounts. Users that are acquired through search engine marketing can be identified by looking at `people_person.channel`. These users will have `'Google'` listed there. Historically, the company spent an average of \\$30 per account to advertise in the 2nd position on Google. However, on `2018-05-04`, they decided to start bidding for the 1st position. Since `2018-05-04` they have spent $207,180 in total."
   ]
  },
  {
   "cell_type": "code",
   "execution_count": null,
   "metadata": {},
   "outputs": [],
   "source": [
    "df_google = df_people_person[df_people_person['channel'] == 'Google']\n",
    "df_google.head()"
   ]
  },
  {
   "cell_type": "code",
   "execution_count": null,
   "metadata": {},
   "outputs": [],
   "source": [
    "df_google[['date_joined', 'channel']].groupby('date_joined', as_index = False).agg(['count'])"
   ]
  },
  {
   "cell_type": "code",
   "execution_count": null,
   "metadata": {},
   "outputs": [],
   "source": []
  }
 ],
 "metadata": {
  "kernelspec": {
   "display_name": "Python 3",
   "language": "python",
   "name": "python3"
  },
  "language_info": {
   "codemirror_mode": {
    "name": "ipython",
    "version": 3
   },
   "file_extension": ".py",
   "mimetype": "text/x-python",
   "name": "python",
   "nbconvert_exporter": "python",
   "pygments_lexer": "ipython3",
   "version": "3.7.4"
  }
 },
 "nbformat": 4,
 "nbformat_minor": 4
}
